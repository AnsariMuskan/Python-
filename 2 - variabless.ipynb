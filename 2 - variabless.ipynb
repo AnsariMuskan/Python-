{
 "cells": [
  {
   "cell_type": "markdown",
   "id": "b7be4a94",
   "metadata": {},
   "source": [
    "# Variables in Python\n",
    "\n",
    ">A variable is basically a name given to any storage area or memory location in a program.\n",
    "\n",
    ">In simple words, we can say that a variable is a container that contains some information, and whenever we need that information, we use the name of that container to access it.\n",
    "\n",
    ">For example, you might want the name x to represent 3. To make it so, simply execute the following:"
   ]
  },
  {
   "cell_type": "code",
   "execution_count": 1,
   "id": "bf9be964",
   "metadata": {},
   "outputs": [],
   "source": [
    "x = 3"
   ]
  },
  {
   "cell_type": "code",
   "execution_count": 2,
   "id": "5b7a38cb",
   "metadata": {},
   "outputs": [
    {
     "data": {
      "text/plain": [
       "3"
      ]
     },
     "execution_count": 2,
     "metadata": {},
     "output_type": "execute_result"
    }
   ],
   "source": [
    "x"
   ]
  },
  {
   "cell_type": "raw",
   "id": "f49cbf69",
   "metadata": {},
   "source": [
    "This is called an assignment. We assign the value 3 to the variable x.\n",
    "\n",
    "Another way of putting this is to say that we bind the variable x to the value (or object) 3. \n",
    "\n",
    "After you’ve assigned a value to a variable, you can use the variable in expressions:"
   ]
  },
  {
   "cell_type": "code",
   "execution_count": 4,
   "id": "f4728ea5",
   "metadata": {},
   "outputs": [
    {
     "data": {
      "text/plain": [
       "9"
      ]
     },
     "execution_count": 4,
     "metadata": {},
     "output_type": "execute_result"
    }
   ],
   "source": [
    "x*3"
   ]
  },
  {
   "cell_type": "markdown",
   "id": "9b2f106a",
   "metadata": {},
   "source": [
    ">Variable is a kind of a box that can store a single value.\n",
    "\n",
    ">Variable is  just evaluates to the value it contain\n",
    "\n",
    ">Values can be stored in variables which can be used in expression or anywhere  , where values are used"
   ]
  },
  {
   "cell_type": "code",
   "execution_count": 90,
   "id": "dd6f8e70",
   "metadata": {},
   "outputs": [
    {
     "name": "stdout",
     "output_type": "stream",
     "text": [
      "100\n"
     ]
    }
   ],
   "source": [
    "# declaring the var\n",
    "Num = 100\n",
    " \n",
    "# display\n",
    "print( Num)"
   ]
  },
  {
   "cell_type": "code",
   "execution_count": 91,
   "id": "a86051a2",
   "metadata": {},
   "outputs": [
    {
     "name": "stdout",
     "output_type": "stream",
     "text": [
      "Before declare:  100\n"
     ]
    }
   ],
   "source": [
    "# declaring the var\n",
    "Number = 100\n",
    "\n",
    "# display\n",
    "print(\"Before declare: \", Number)"
   ]
  },
  {
   "cell_type": "code",
   "execution_count": 92,
   "id": "788b9755",
   "metadata": {},
   "outputs": [
    {
     "name": "stdout",
     "output_type": "stream",
     "text": [
      "After re-declare: 120.3\n"
     ]
    }
   ],
   "source": [
    "# re-declare the var\n",
    "Number = 120.3\n",
    "   \n",
    "print(\"After re-declare:\", Number)"
   ]
  },
  {
   "cell_type": "markdown",
   "id": "9ab84e65",
   "metadata": {},
   "source": [
    "# Rules for Creating Variable :"
   ]
  },
  {
   "cell_type": "raw",
   "id": "8221b1b5",
   "metadata": {},
   "source": [
    "1. Variables should not start with numbers.\n",
    "\n",
    "2. Variables can start with '_'(underscore)\n",
    "\n",
    "3. Variables should not start with any special characters except '_'\n",
    "\n",
    "4. Variables should not be named after default built-in keywords.\n",
    "\n",
    "5. Variable name should always be at the left side of the assignment operator( = ).\n",
    "\n",
    "6. Variable name should always start with an capital or small alphabets not with a number or Special symbols.\n",
    "\n",
    "7. You can also use alphanumeric name for creating a variable.\n",
    "\n",
    "8. You cannot use any special characters in variable except \"_\".\n",
    "\n",
    "9. You cannot use space in defining the variable use underscore inplace of it.\n",
    "\n",
    "76abc Syntax error\n",
    "more@=1000 Syntax error\n",
    "\n",
    "Keywords cannot be variable names."
   ]
  },
  {
   "cell_type": "code",
   "execution_count": 12,
   "id": "0b5cc63a",
   "metadata": {},
   "outputs": [
    {
     "ename": "SyntaxError",
     "evalue": "invalid decimal literal (1969160982.py, line 1)",
     "output_type": "error",
     "traceback": [
      "\u001b[1;36m  Cell \u001b[1;32mIn[12], line 1\u001b[1;36m\u001b[0m\n\u001b[1;33m    2x = \"jhon\"\u001b[0m\n\u001b[1;37m    ^\u001b[0m\n\u001b[1;31mSyntaxError\u001b[0m\u001b[1;31m:\u001b[0m invalid decimal literal\n"
     ]
    }
   ],
   "source": [
    "2x = \"jhon\""
   ]
  },
  {
   "cell_type": "code",
   "execution_count": 13,
   "id": "ea15c8cd",
   "metadata": {},
   "outputs": [
    {
     "data": {
      "text/plain": [
       "10"
      ]
     },
     "execution_count": 13,
     "metadata": {},
     "output_type": "execute_result"
    }
   ],
   "source": [
    "_x = 10\n",
    "_x"
   ]
  },
  {
   "cell_type": "code",
   "execution_count": 14,
   "id": "633f397b",
   "metadata": {},
   "outputs": [
    {
     "ename": "SyntaxError",
     "evalue": "invalid syntax. Maybe you meant '==' or ':=' instead of '='? (3638762657.py, line 1)",
     "output_type": "error",
     "traceback": [
      "\u001b[1;36m  Cell \u001b[1;32mIn[14], line 1\u001b[1;36m\u001b[0m\n\u001b[1;33m    @h = 25\u001b[0m\n\u001b[1;37m     ^\u001b[0m\n\u001b[1;31mSyntaxError\u001b[0m\u001b[1;31m:\u001b[0m invalid syntax. Maybe you meant '==' or ':=' instead of '='?\n"
     ]
    }
   ],
   "source": [
    "@h = 25"
   ]
  },
  {
   "cell_type": "code",
   "execution_count": 15,
   "id": "2590dc7c",
   "metadata": {},
   "outputs": [
    {
     "ename": "SyntaxError",
     "evalue": "invalid syntax (315675162.py, line 1)",
     "output_type": "error",
     "traceback": [
      "\u001b[1;36m  Cell \u001b[1;32mIn[15], line 1\u001b[1;36m\u001b[0m\n\u001b[1;33m    pass = 54\u001b[0m\n\u001b[1;37m         ^\u001b[0m\n\u001b[1;31mSyntaxError\u001b[0m\u001b[1;31m:\u001b[0m invalid syntax\n"
     ]
    }
   ],
   "source": [
    "pass = 54"
   ]
  },
  {
   "cell_type": "code",
   "execution_count": 2,
   "id": "c5d0b321",
   "metadata": {},
   "outputs": [
    {
     "data": {
      "text/plain": [
       "123456"
      ]
     },
     "execution_count": 2,
     "metadata": {},
     "output_type": "execute_result"
    }
   ],
   "source": [
    "password= 123456\n",
    "password"
   ]
  },
  {
   "cell_type": "code",
   "execution_count": 3,
   "id": "0bc9ba31",
   "metadata": {
    "scrolled": true
   },
   "outputs": [
    {
     "ename": "SyntaxError",
     "evalue": "cannot assign to literal here. Maybe you meant '==' instead of '='? (2320231445.py, line 1)",
     "output_type": "error",
     "traceback": [
      "\u001b[1;36m  Cell \u001b[1;32mIn[3], line 1\u001b[1;36m\u001b[0m\n\u001b[1;33m    123456 = password\u001b[0m\n\u001b[1;37m    ^\u001b[0m\n\u001b[1;31mSyntaxError\u001b[0m\u001b[1;31m:\u001b[0m cannot assign to literal here. Maybe you meant '==' instead of '='?\n"
     ]
    }
   ],
   "source": [
    "123456 = password"
   ]
  },
  {
   "cell_type": "code",
   "execution_count": 18,
   "id": "6e88101d",
   "metadata": {},
   "outputs": [
    {
     "ename": "SyntaxError",
     "evalue": "cannot assign to expression here. Maybe you meant '==' instead of '='? (551473223.py, line 1)",
     "output_type": "error",
     "traceback": [
      "\u001b[1;36m  Cell \u001b[1;32mIn[18], line 1\u001b[1;36m\u001b[0m\n\u001b[1;33m    jaye@hg= \"sharma\"\u001b[0m\n\u001b[1;37m    ^\u001b[0m\n\u001b[1;31mSyntaxError\u001b[0m\u001b[1;31m:\u001b[0m cannot assign to expression here. Maybe you meant '==' instead of '='?\n"
     ]
    }
   ],
   "source": [
    "jaye@hg= \"sharma\""
   ]
  },
  {
   "cell_type": "code",
   "execution_count": 7,
   "id": "8e2cba76",
   "metadata": {},
   "outputs": [],
   "source": [
    "jaye_hg= \"sharma\""
   ]
  },
  {
   "cell_type": "code",
   "execution_count": 20,
   "id": "2b5c95d7",
   "metadata": {},
   "outputs": [
    {
     "data": {
      "text/plain": [
       "'sharma'"
      ]
     },
     "execution_count": 20,
     "metadata": {},
     "output_type": "execute_result"
    }
   ],
   "source": [
    "jaye_hg"
   ]
  },
  {
   "cell_type": "code",
   "execution_count": 21,
   "id": "fa2598b9",
   "metadata": {},
   "outputs": [],
   "source": [
    "x = 25"
   ]
  },
  {
   "cell_type": "code",
   "execution_count": 22,
   "id": "187a98d1",
   "metadata": {},
   "outputs": [
    {
     "data": {
      "text/plain": [
       "25"
      ]
     },
     "execution_count": 22,
     "metadata": {},
     "output_type": "execute_result"
    }
   ],
   "source": [
    "x"
   ]
  },
  {
   "cell_type": "code",
   "execution_count": 2,
   "id": "4f107eb4",
   "metadata": {},
   "outputs": [
    {
     "data": {
      "text/plain": [
       "'muskan'"
      ]
     },
     "execution_count": 2,
     "metadata": {},
     "output_type": "execute_result"
    }
   ],
   "source": [
    "y = \"muskan\"\n",
    "y"
   ]
  },
  {
   "cell_type": "code",
   "execution_count": 3,
   "id": "7eb8d2b3",
   "metadata": {},
   "outputs": [
    {
     "data": {
      "text/plain": [
       "'smith'"
      ]
     },
     "execution_count": 3,
     "metadata": {},
     "output_type": "execute_result"
    }
   ],
   "source": [
    "x2 = \"smith\"\n",
    "x2"
   ]
  },
  {
   "cell_type": "code",
   "execution_count": 4,
   "id": "484f460f",
   "metadata": {},
   "outputs": [
    {
     "data": {
      "text/plain": [
       "'khan'"
      ]
     },
     "execution_count": 4,
     "metadata": {},
     "output_type": "execute_result"
    }
   ],
   "source": [
    "z = \"khan\"\n",
    "z"
   ]
  },
  {
   "cell_type": "code",
   "execution_count": 8,
   "id": "63405de3",
   "metadata": {},
   "outputs": [
    {
     "data": {
      "text/plain": [
       "'muskan khan'"
      ]
     },
     "execution_count": 8,
     "metadata": {},
     "output_type": "execute_result"
    }
   ],
   "source": [
    "y +\" \"+ z"
   ]
  },
  {
   "cell_type": "code",
   "execution_count": 88,
   "id": "a1606b92",
   "metadata": {},
   "outputs": [
    {
     "name": "stdout",
     "output_type": "stream",
     "text": [
      "1 2 5\n",
      "6 7 8\n"
     ]
    }
   ],
   "source": [
    "# valid variable name\n",
    "a = 1\n",
    "A = 2\n",
    "A_a= 5\n",
    "_c = 6\n",
    "c_ = 7\n",
    "_z_ = 8\n",
    " \n",
    "print(a, A, A_a) \n",
    "print(_c, c_, _z_)"
   ]
  },
  {
   "cell_type": "code",
   "execution_count": 89,
   "id": "cfcc29ad",
   "metadata": {
    "scrolled": true
   },
   "outputs": [
    {
     "name": "stdout",
     "output_type": "stream",
     "text": [
      "45\n",
      "1456.8\n",
      "John\n"
     ]
    }
   ],
   "source": [
    "# An integer assignment\n",
    "age = 45\n",
    " \n",
    "# A floating point\n",
    "salary = 1456.8\n",
    " \n",
    "# A string\n",
    "name = \"John\"\n",
    " \n",
    "print(age)\n",
    "print(salary)\n",
    "print(name)"
   ]
  },
  {
   "cell_type": "markdown",
   "id": "efb58609",
   "metadata": {},
   "source": [
    "# Multiple Varible assignment "
   ]
  },
  {
   "cell_type": "code",
   "execution_count": 12,
   "id": "99c28fbf",
   "metadata": {},
   "outputs": [],
   "source": [
    "#Till now we care assigning one variable at a time like this..\n",
    "\n",
    "x = 10\n",
    "y = 20"
   ]
  },
  {
   "cell_type": "code",
   "execution_count": 13,
   "id": "88411f36",
   "metadata": {},
   "outputs": [],
   "source": [
    "x,y = y , x"
   ]
  },
  {
   "cell_type": "code",
   "execution_count": 14,
   "id": "e969347b",
   "metadata": {},
   "outputs": [
    {
     "data": {
      "text/plain": [
       "20"
      ]
     },
     "execution_count": 14,
     "metadata": {},
     "output_type": "execute_result"
    }
   ],
   "source": [
    "x"
   ]
  },
  {
   "cell_type": "code",
   "execution_count": 15,
   "id": "be19cb42",
   "metadata": {},
   "outputs": [
    {
     "data": {
      "text/plain": [
       "10"
      ]
     },
     "execution_count": 15,
     "metadata": {},
     "output_type": "execute_result"
    }
   ],
   "source": [
    "y"
   ]
  },
  {
   "cell_type": "code",
   "execution_count": 16,
   "id": "20a1132a",
   "metadata": {},
   "outputs": [],
   "source": [
    "#but we can also assign or declare multiple variable all at once\n",
    "\n",
    "x,y,z = 10,20,30"
   ]
  },
  {
   "cell_type": "code",
   "execution_count": 17,
   "id": "d470153b",
   "metadata": {},
   "outputs": [
    {
     "data": {
      "text/plain": [
       "30"
      ]
     },
     "execution_count": 17,
     "metadata": {},
     "output_type": "execute_result"
    }
   ],
   "source": [
    "z"
   ]
  },
  {
   "cell_type": "code",
   "execution_count": 10,
   "id": "5d1bec9b",
   "metadata": {
    "scrolled": true
   },
   "outputs": [
    {
     "data": {
      "text/plain": [
       "10"
      ]
     },
     "execution_count": 10,
     "metadata": {},
     "output_type": "execute_result"
    }
   ],
   "source": [
    "x"
   ]
  },
  {
   "cell_type": "code",
   "execution_count": 11,
   "id": "5e2e1aa5",
   "metadata": {
    "scrolled": true
   },
   "outputs": [
    {
     "data": {
      "text/plain": [
       "20"
      ]
     },
     "execution_count": 11,
     "metadata": {},
     "output_type": "execute_result"
    }
   ],
   "source": [
    "y"
   ]
  },
  {
   "cell_type": "markdown",
   "id": "47f9ea40",
   "metadata": {},
   "source": [
    "### Example "
   ]
  },
  {
   "cell_type": "code",
   "execution_count": 2,
   "id": "211048fc",
   "metadata": {},
   "outputs": [],
   "source": [
    "database = ['jhon',1111]"
   ]
  },
  {
   "cell_type": "code",
   "execution_count": 3,
   "id": "b6cf8b3c",
   "metadata": {},
   "outputs": [],
   "source": [
    "username, pin = database"
   ]
  },
  {
   "cell_type": "code",
   "execution_count": 4,
   "id": "3564bbea",
   "metadata": {},
   "outputs": [
    {
     "data": {
      "text/plain": [
       "'jhon'"
      ]
     },
     "execution_count": 4,
     "metadata": {},
     "output_type": "execute_result"
    }
   ],
   "source": [
    "username"
   ]
  },
  {
   "cell_type": "code",
   "execution_count": 5,
   "id": "8820b83c",
   "metadata": {},
   "outputs": [
    {
     "data": {
      "text/plain": [
       "1111"
      ]
     },
     "execution_count": 5,
     "metadata": {},
     "output_type": "execute_result"
    }
   ],
   "source": [
    "pin"
   ]
  },
  {
   "cell_type": "code",
   "execution_count": 22,
   "id": "12a4eea5",
   "metadata": {},
   "outputs": [],
   "source": [
    "a =b =c = [1,2,3]"
   ]
  },
  {
   "cell_type": "code",
   "execution_count": 23,
   "id": "ab04b6f8",
   "metadata": {},
   "outputs": [
    {
     "data": {
      "text/plain": [
       "[1, 2, 3]"
      ]
     },
     "execution_count": 23,
     "metadata": {},
     "output_type": "execute_result"
    }
   ],
   "source": [
    "a"
   ]
  },
  {
   "cell_type": "code",
   "execution_count": 24,
   "id": "584ba931",
   "metadata": {},
   "outputs": [
    {
     "data": {
      "text/plain": [
       "[1, 2, 3]"
      ]
     },
     "execution_count": 24,
     "metadata": {},
     "output_type": "execute_result"
    }
   ],
   "source": [
    "b"
   ]
  },
  {
   "cell_type": "code",
   "execution_count": 25,
   "id": "cb969afe",
   "metadata": {},
   "outputs": [
    {
     "data": {
      "text/plain": [
       "[1, 2, 3]"
      ]
     },
     "execution_count": 25,
     "metadata": {},
     "output_type": "execute_result"
    }
   ],
   "source": [
    "c"
   ]
  },
  {
   "cell_type": "raw",
   "id": "70fa8a9e",
   "metadata": {},
   "source": [
    "but a = b = c not same as a,b,c"
   ]
  },
  {
   "cell_type": "code",
   "execution_count": 10,
   "id": "796678a3",
   "metadata": {},
   "outputs": [],
   "source": [
    "a,b,c = [3,4,5]"
   ]
  },
  {
   "cell_type": "code",
   "execution_count": 11,
   "id": "9dca73d9",
   "metadata": {},
   "outputs": [
    {
     "data": {
      "text/plain": [
       "3"
      ]
     },
     "execution_count": 11,
     "metadata": {},
     "output_type": "execute_result"
    }
   ],
   "source": [
    "a"
   ]
  },
  {
   "cell_type": "code",
   "execution_count": 13,
   "id": "e7ff5fe5",
   "metadata": {},
   "outputs": [
    {
     "data": {
      "text/plain": [
       "4"
      ]
     },
     "execution_count": 13,
     "metadata": {},
     "output_type": "execute_result"
    }
   ],
   "source": [
    "b"
   ]
  },
  {
   "cell_type": "code",
   "execution_count": 14,
   "id": "733c61a4",
   "metadata": {},
   "outputs": [
    {
     "data": {
      "text/plain": [
       "5"
      ]
     },
     "execution_count": 14,
     "metadata": {},
     "output_type": "execute_result"
    }
   ],
   "source": [
    "c"
   ]
  },
  {
   "cell_type": "raw",
   "id": "a67d82a6",
   "metadata": {},
   "source": [
    "Lets try this one "
   ]
  },
  {
   "cell_type": "code",
   "execution_count": 16,
   "id": "23dff163",
   "metadata": {},
   "outputs": [
    {
     "data": {
      "text/plain": [
       "['Black', 'Fat', 'Cute']"
      ]
     },
     "execution_count": 16,
     "metadata": {},
     "output_type": "execute_result"
    }
   ],
   "source": [
    "cat = ['Black','Fat','Cute']\n",
    "cat"
   ]
  },
  {
   "cell_type": "code",
   "execution_count": 17,
   "id": "35fc47b7",
   "metadata": {},
   "outputs": [],
   "source": [
    "color,size,looks= cat"
   ]
  },
  {
   "cell_type": "code",
   "execution_count": 18,
   "id": "9f15c678",
   "metadata": {},
   "outputs": [
    {
     "data": {
      "text/plain": [
       "'Black'"
      ]
     },
     "execution_count": 18,
     "metadata": {},
     "output_type": "execute_result"
    }
   ],
   "source": [
    "color "
   ]
  },
  {
   "cell_type": "code",
   "execution_count": 19,
   "id": "41c3a4ea",
   "metadata": {},
   "outputs": [
    {
     "data": {
      "text/plain": [
       "'Fat'"
      ]
     },
     "execution_count": 19,
     "metadata": {},
     "output_type": "execute_result"
    }
   ],
   "source": [
    "size "
   ]
  },
  {
   "cell_type": "code",
   "execution_count": 20,
   "id": "57053e3b",
   "metadata": {},
   "outputs": [
    {
     "data": {
      "text/plain": [
       "'Cute'"
      ]
     },
     "execution_count": 20,
     "metadata": {},
     "output_type": "execute_result"
    }
   ],
   "source": [
    "looks "
   ]
  },
  {
   "cell_type": "code",
   "execution_count": 21,
   "id": "d5b8a734",
   "metadata": {},
   "outputs": [
    {
     "data": {
      "text/plain": [
       "'Fat'"
      ]
     },
     "execution_count": 21,
     "metadata": {},
     "output_type": "execute_result"
    }
   ],
   "source": [
    "size"
   ]
  },
  {
   "cell_type": "markdown",
   "id": "1ab11a8b",
   "metadata": {},
   "source": [
    "# Varible swapping "
   ]
  },
  {
   "cell_type": "code",
   "execution_count": 23,
   "id": "e1e8d717",
   "metadata": {},
   "outputs": [
    {
     "data": {
      "text/plain": [
       "'xxxx'"
      ]
     },
     "execution_count": 23,
     "metadata": {},
     "output_type": "execute_result"
    }
   ],
   "source": [
    "a = \"xxxx\"\n",
    "a"
   ]
  },
  {
   "cell_type": "code",
   "execution_count": 25,
   "id": "cd14a57b",
   "metadata": {},
   "outputs": [
    {
     "data": {
      "text/plain": [
       "'yyyy'"
      ]
     },
     "execution_count": 25,
     "metadata": {},
     "output_type": "execute_result"
    }
   ],
   "source": [
    "b = \"yyyy\"\n",
    "b"
   ]
  },
  {
   "cell_type": "code",
   "execution_count": 26,
   "id": "fcb5d9d1",
   "metadata": {},
   "outputs": [],
   "source": [
    "#value of a equal to be and b equals to a \n",
    "\n",
    "#(we are using previous technique of multiple variable assignments)\n",
    "\n",
    "a,b = b,a"
   ]
  },
  {
   "cell_type": "code",
   "execution_count": 27,
   "id": "0682e66e",
   "metadata": {},
   "outputs": [
    {
     "data": {
      "text/plain": [
       "'yyyy'"
      ]
     },
     "execution_count": 27,
     "metadata": {},
     "output_type": "execute_result"
    }
   ],
   "source": [
    "a"
   ]
  },
  {
   "cell_type": "code",
   "execution_count": 28,
   "id": "967012b4",
   "metadata": {},
   "outputs": [
    {
     "data": {
      "text/plain": [
       "'xxxx'"
      ]
     },
     "execution_count": 28,
     "metadata": {},
     "output_type": "execute_result"
    }
   ],
   "source": [
    "b"
   ]
  },
  {
   "cell_type": "code",
   "execution_count": 12,
   "id": "167ccf32",
   "metadata": {},
   "outputs": [
    {
     "name": "stdout",
     "output_type": "stream",
     "text": [
      "muskan !!!\n"
     ]
    }
   ],
   "source": [
    "name = \"muskan\"\n",
    "print (name,\"!!!\")"
   ]
  },
  {
   "cell_type": "code",
   "execution_count": 39,
   "id": "0aa83531",
   "metadata": {
    "scrolled": true
   },
   "outputs": [
    {
     "name": "stdout",
     "output_type": "stream",
     "text": [
      "welcome muskan\n"
     ]
    }
   ],
   "source": [
    "print(\"welcome\",name)"
   ]
  },
  {
   "cell_type": "code",
   "execution_count": 13,
   "id": "64338a04",
   "metadata": {},
   "outputs": [
    {
     "name": "stdout",
     "output_type": "stream",
     "text": [
      "muskan welcome\n"
     ]
    }
   ],
   "source": [
    "print(name,\"welcome\")"
   ]
  },
  {
   "cell_type": "code",
   "execution_count": 40,
   "id": "003d12b8",
   "metadata": {},
   "outputs": [
    {
     "ename": "NameError",
     "evalue": "name 'num' is not defined",
     "output_type": "error",
     "traceback": [
      "\u001b[1;31m---------------------------------------------------------------------------\u001b[0m",
      "\u001b[1;31mNameError\u001b[0m                                 Traceback (most recent call last)",
      "Cell \u001b[1;32mIn[40], line 1\u001b[0m\n\u001b[1;32m----> 1\u001b[0m \u001b[38;5;28mprint\u001b[39m(\u001b[38;5;124m'\u001b[39m\u001b[38;5;124mPython programming\u001b[39m\u001b[38;5;124m'\u001b[39m,num)\n",
      "\u001b[1;31mNameError\u001b[0m: name 'num' is not defined"
     ]
    }
   ],
   "source": [
    "print('Python programming',num)"
   ]
  },
  {
   "cell_type": "code",
   "execution_count": 16,
   "id": "ec83da21",
   "metadata": {
    "scrolled": true
   },
   "outputs": [
    {
     "name": "stdout",
     "output_type": "stream",
     "text": [
      "Please specify your Name: muskan\n",
      "Please enter your Age: 23\n",
      "Please enter your Experience: 2.5\n",
      "muskan at the age of 23 working with an experience of 2.5 years.\n"
     ]
    }
   ],
   "source": [
    "#way 1\n",
    "\n",
    "name = input(\"Please specify your Name: \")\n",
    "age = int(input(\"Please enter your Age: \"))\n",
    "exp = eval(input('Please enter your Experience: '))\n",
    "\n",
    "print(name, \"at the age of\", age,\"working with an experience of\", exp, \"years.\")"
   ]
  },
  {
   "cell_type": "code",
   "execution_count": 17,
   "id": "e76b2dab",
   "metadata": {},
   "outputs": [
    {
     "data": {
      "text/plain": [
       "float"
      ]
     },
     "execution_count": 17,
     "metadata": {},
     "output_type": "execute_result"
    }
   ],
   "source": [
    "type(exp)"
   ]
  },
  {
   "cell_type": "code",
   "execution_count": 43,
   "id": "d17f4289",
   "metadata": {},
   "outputs": [
    {
     "name": "stdout",
     "output_type": "stream",
     "text": [
      "Please specify your Name: muskan\n",
      "Please enter your Age: 15\n",
      "Please enter your Experience: 4\n",
      "muskan at the age of 15 working with an experience of 4 years\n"
     ]
    }
   ],
   "source": [
    "#way 2\n",
    "\n",
    "name = input(\"Please specify your Name: \")\n",
    "age = eval(input(\"Please enter your Age: \"))\n",
    "exp = eval(input('Please enter your Experience: '))\n",
    "print('{} at the age of {} working with an experience of {} years'.format(name, age, exp)) \n",
    "#format function"
   ]
  },
  {
   "cell_type": "code",
   "execution_count": 44,
   "id": "f0e622aa",
   "metadata": {},
   "outputs": [
    {
     "name": "stdout",
     "output_type": "stream",
     "text": [
      "Please specify your Name: muskan\n",
      "Please enter your Age: 16\n",
      "Please enter your Experience: 5\n",
      "muskan at the age of 16 working with an experience of 5 years\n"
     ]
    }
   ],
   "source": [
    "#way 3 \n",
    "\n",
    "name = input(\"Please specify your Name: \")\n",
    "age = eval(input(\"Please enter your Age: \"))\n",
    "exp = eval(input('Please enter your Experience: '))\n",
    "print(f'{name} at the age of {age} working with an experience of {exp} years') "
   ]
  },
  {
   "cell_type": "code",
   "execution_count": 48,
   "id": "0a89c0e1",
   "metadata": {},
   "outputs": [
    {
     "name": "stdout",
     "output_type": "stream",
     "text": [
      "Please specify your Name: muskan\n",
      "Please enter your Age: 23\n",
      "Please enter your Experience: 4\n",
      "\n",
      "--muskan--at the age of--23--working with an experience of--4--years.\n"
     ]
    }
   ],
   "source": [
    "#way 4 \n",
    "name = input(\"Please specify your Name: \")\n",
    "age = eval(input(\"Please enter your Age: \"))\n",
    "exp = eval(input('Please enter your Experience: '))\n",
    "print('\\n',name, \"at the age of\", age,\"working with an experience of\", exp, \"years.\", sep=\"--\")\n",
    "\n",
    "#putting the separator as \"--\" instaed of space."
   ]
  },
  {
   "cell_type": "code",
   "execution_count": 46,
   "id": "b5fd0fb3",
   "metadata": {},
   "outputs": [
    {
     "name": "stdout",
     "output_type": "stream",
     "text": [
      "name is:  muskan\n",
      "Age is:  16\n",
      "Experience is:  5\n"
     ]
    }
   ],
   "source": [
    "print(\"name is: \",name)\n",
    "print(\"Age is: \",age)\n",
    "print(\"Experience is: \",exp)"
   ]
  },
  {
   "cell_type": "code",
   "execution_count": 30,
   "id": "6b6b8ee3",
   "metadata": {},
   "outputs": [
    {
     "name": "stdout",
     "output_type": "stream",
     "text": [
      "Name is:  muskan  Age is:  12 | Experience is:  6.0\n"
     ]
    }
   ],
   "source": [
    "#Instead of new line we create new sentence in the same lone using pipe operator.\n",
    "\n",
    "print(\"Name is: \",name, end= \" | \") \n",
    "print(\"Age is: \",age, end= \" | \")\n",
    "print(\"Experience is: \",exp)"
   ]
  },
  {
   "cell_type": "code",
   "execution_count": 51,
   "id": "d033128c",
   "metadata": {},
   "outputs": [
    {
     "name": "stdout",
     "output_type": "stream",
     "text": [
      "\n",
      "Name is:  muskan\n",
      "\n",
      "Age is:  23\n",
      "\n",
      "Experience is: \n"
     ]
    }
   ],
   "source": [
    "print(\"\\nName is: \",name, ) \n",
    "print(\"\\nAge is: \",age,)\n",
    "print(\"\\nExperience is: \")"
   ]
  },
  {
   "cell_type": "code",
   "execution_count": 50,
   "id": "87a8e219",
   "metadata": {},
   "outputs": [
    {
     "name": "stdout",
     "output_type": "stream",
     "text": [
      "Name is:  muskan\n",
      "\n",
      "Age is:  23\n",
      "\n",
      "Experience is: \n"
     ]
    }
   ],
   "source": [
    "print(\"Name is: \",name, ) \n",
    "print(\"\\nAge is: \",age,)\n",
    "print(\"\\nExperience is: \")"
   ]
  },
  {
   "cell_type": "markdown",
   "id": "d176eee8",
   "metadata": {},
   "source": [
    "# Typecasting "
   ]
  },
  {
   "cell_type": "raw",
   "id": "8363a949",
   "metadata": {},
   "source": [
    "Changing the datatype from one into another as per our requirement."
   ]
  },
  {
   "cell_type": "code",
   "execution_count": 61,
   "id": "8e600f7c",
   "metadata": {},
   "outputs": [],
   "source": [
    "x = int('2017')"
   ]
  },
  {
   "cell_type": "code",
   "execution_count": 62,
   "id": "4b6d8981",
   "metadata": {},
   "outputs": [
    {
     "data": {
      "text/plain": [
       "int"
      ]
     },
     "execution_count": 62,
     "metadata": {},
     "output_type": "execute_result"
    }
   ],
   "source": [
    "type(x)"
   ]
  },
  {
   "cell_type": "code",
   "execution_count": 63,
   "id": "863f470d",
   "metadata": {},
   "outputs": [
    {
     "data": {
      "text/plain": [
       "str"
      ]
     },
     "execution_count": 63,
     "metadata": {},
     "output_type": "execute_result"
    }
   ],
   "source": [
    "type('2017')"
   ]
  },
  {
   "cell_type": "code",
   "execution_count": 31,
   "id": "c67bbeba",
   "metadata": {},
   "outputs": [
    {
     "data": {
      "text/plain": [
       "32"
      ]
     },
     "execution_count": 31,
     "metadata": {},
     "output_type": "execute_result"
    }
   ],
   "source": [
    "int(32.252658741356)"
   ]
  },
  {
   "cell_type": "code",
   "execution_count": 65,
   "id": "caaea5ff",
   "metadata": {},
   "outputs": [
    {
     "data": {
      "text/plain": [
       "1.99"
      ]
     },
     "execution_count": 65,
     "metadata": {},
     "output_type": "execute_result"
    }
   ],
   "source": [
    "float('1.99')"
   ]
  },
  {
   "cell_type": "code",
   "execution_count": 66,
   "id": "a1ce4c52",
   "metadata": {},
   "outputs": [
    {
     "data": {
      "text/plain": [
       "4.0"
      ]
     },
     "execution_count": 66,
     "metadata": {},
     "output_type": "execute_result"
    }
   ],
   "source": [
    "float(4)"
   ]
  },
  {
   "cell_type": "code",
   "execution_count": 53,
   "id": "60756d88",
   "metadata": {},
   "outputs": [
    {
     "name": "stdout",
     "output_type": "stream",
     "text": [
      "Age is:  15\n"
     ]
    },
    {
     "data": {
      "text/plain": [
       "int"
      ]
     },
     "execution_count": 53,
     "metadata": {},
     "output_type": "execute_result"
    }
   ],
   "source": [
    "age = 15\n",
    "print(\"Age is: \",age)\n",
    "type(age)"
   ]
  },
  {
   "cell_type": "code",
   "execution_count": 54,
   "id": "f96989e4",
   "metadata": {
    "scrolled": true
   },
   "outputs": [
    {
     "name": "stdout",
     "output_type": "stream",
     "text": [
      "Age is:   15\n"
     ]
    },
    {
     "data": {
      "text/plain": [
       "str"
      ]
     },
     "execution_count": 54,
     "metadata": {},
     "output_type": "execute_result"
    }
   ],
   "source": [
    "age =\" 15\"\n",
    "print(\"Age is: \",age)\n",
    "type(age)"
   ]
  },
  {
   "cell_type": "code",
   "execution_count": 59,
   "id": "e3480fa4",
   "metadata": {},
   "outputs": [
    {
     "name": "stdout",
     "output_type": "stream",
     "text": [
      "name is:  muskan\n",
      "<class 'str'>\n"
     ]
    }
   ],
   "source": [
    "name = \"muskan\"\n",
    "print(\"name is: \",name)\n",
    "print(type(name))"
   ]
  },
  {
   "cell_type": "code",
   "execution_count": 60,
   "id": "099d3e06",
   "metadata": {},
   "outputs": [
    {
     "ename": "ValueError",
     "evalue": "invalid literal for int() with base 10: 'muskan'",
     "output_type": "error",
     "traceback": [
      "\u001b[1;31m---------------------------------------------------------------------------\u001b[0m",
      "\u001b[1;31mValueError\u001b[0m                                Traceback (most recent call last)",
      "Cell \u001b[1;32mIn[60], line 1\u001b[0m\n\u001b[1;32m----> 1\u001b[0m name \u001b[38;5;241m=\u001b[39m \u001b[38;5;28mint\u001b[39m(\u001b[38;5;124m\"\u001b[39m\u001b[38;5;124mmuskan\u001b[39m\u001b[38;5;124m\"\u001b[39m)\n\u001b[0;32m      2\u001b[0m \u001b[38;5;28mprint\u001b[39m(\u001b[38;5;124m\"\u001b[39m\u001b[38;5;124mname is: \u001b[39m\u001b[38;5;124m\"\u001b[39m,name)\n\u001b[0;32m      3\u001b[0m \u001b[38;5;28mprint\u001b[39m(\u001b[38;5;28mtype\u001b[39m(name))\n",
      "\u001b[1;31mValueError\u001b[0m: invalid literal for int() with base 10: 'muskan'"
     ]
    }
   ],
   "source": [
    "name = int(\"muskan\")\n",
    "print(\"name is: \",name)\n",
    "print(type(name))"
   ]
  },
  {
   "cell_type": "code",
   "execution_count": 58,
   "id": "a3ea9b7d",
   "metadata": {},
   "outputs": [
    {
     "name": "stdout",
     "output_type": "stream",
     "text": [
      "<class 'int'>\n",
      "2017\n"
     ]
    }
   ],
   "source": [
    "x = int('2017')\n",
    "print(type(x))\n",
    "print(x)"
   ]
  },
  {
   "cell_type": "markdown",
   "id": "dedf7925",
   "metadata": {},
   "source": [
    "## Input and Output Operations"
   ]
  },
  {
   "cell_type": "markdown",
   "id": "aac3877c",
   "metadata": {},
   "source": [
    ">1.This is a function first takes the input from the user and then evaluate the expression, which means Python automatically identifies whether\n",
    "user entered a string or a number or a list.\n",
    "\n",
    ">2.If the input provided is not correct then either syntax error or exception raised by Python."
   ]
  },
  {
   "cell_type": "code",
   "execution_count": 67,
   "id": "2cf08932",
   "metadata": {},
   "outputs": [
    {
     "name": "stdout",
     "output_type": "stream",
     "text": [
      "Please enter your name: muskan\n",
      "Welcome muskan !!!\n"
     ]
    }
   ],
   "source": [
    "# Input\n",
    "\n",
    "name = input('Please enter your name: ')\n",
    "print('Welcome', name, '!!!')"
   ]
  },
  {
   "cell_type": "code",
   "execution_count": 68,
   "id": "fd88825a",
   "metadata": {
    "scrolled": true
   },
   "outputs": [
    {
     "name": "stdout",
     "output_type": "stream",
     "text": [
      "Please enter your name: muskan\n",
      "\n",
      "Welcome muskan !!!\n"
     ]
    }
   ],
   "source": [
    "#\\n creates a new line\n",
    "name = input('Please enter your name: ')\n",
    "print('\\nWelcome', name, '!!!') "
   ]
  },
  {
   "cell_type": "code",
   "execution_count": 82,
   "id": "38c10694",
   "metadata": {},
   "outputs": [
    {
     "name": "stdout",
     "output_type": "stream",
     "text": [
      "Please enter your address: Thane\n",
      "\n",
      "Address is Thane\n"
     ]
    }
   ],
   "source": [
    "num = input('Please enter your address: ')\n",
    "print('\\nAddress is', num)"
   ]
  },
  {
   "cell_type": "code",
   "execution_count": 69,
   "id": "4a7c44ee",
   "metadata": {},
   "outputs": [
    {
     "name": "stdout",
     "output_type": "stream",
     "text": [
      "Welcome muskan\n"
     ]
    }
   ],
   "source": [
    "print(\"Welcome\",name)"
   ]
  },
  {
   "cell_type": "code",
   "execution_count": 70,
   "id": "f6713b22",
   "metadata": {},
   "outputs": [
    {
     "data": {
      "text/plain": [
       "str"
      ]
     },
     "execution_count": 70,
     "metadata": {},
     "output_type": "execute_result"
    }
   ],
   "source": [
    "type(name)"
   ]
  },
  {
   "cell_type": "code",
   "execution_count": 71,
   "id": "ab16eef2",
   "metadata": {},
   "outputs": [
    {
     "name": "stdout",
     "output_type": "stream",
     "text": [
      "Please enter your Age: 15\n",
      "15\n"
     ]
    },
    {
     "data": {
      "text/plain": [
       "str"
      ]
     },
     "execution_count": 71,
     "metadata": {},
     "output_type": "execute_result"
    }
   ],
   "source": [
    "age = input(\"Please enter your Age: \")\n",
    "print(age)\n",
    "type(age)"
   ]
  },
  {
   "cell_type": "code",
   "execution_count": 74,
   "id": "4b21c652",
   "metadata": {},
   "outputs": [
    {
     "name": "stdout",
     "output_type": "stream",
     "text": [
      "Sales Value is: 25000\n",
      "Sales is 25000 Rs.\n",
      "<class 'str'>\n"
     ]
    }
   ],
   "source": [
    "sales = input(\"Sales Value is: \")\n",
    "print(\"Sales is\", sales,\"Rs.\")\n",
    "print(type(sales))"
   ]
  },
  {
   "cell_type": "markdown",
   "id": "740b3276",
   "metadata": {},
   "source": [
    "### int()"
   ]
  },
  {
   "cell_type": "code",
   "execution_count": 75,
   "id": "9c67153e",
   "metadata": {},
   "outputs": [
    {
     "name": "stdout",
     "output_type": "stream",
     "text": [
      "Sales Value is: 25000\n",
      "Sales is 25000 Rs.\n",
      "<class 'int'>\n"
     ]
    }
   ],
   "source": [
    "sales = int(input(\"Sales Value is: \"))\n",
    "print(\"Sales is\", sales,\"Rs.\")\n",
    "print(type(sales))"
   ]
  },
  {
   "cell_type": "code",
   "execution_count": 76,
   "id": "d6f386e3",
   "metadata": {},
   "outputs": [
    {
     "name": "stdout",
     "output_type": "stream",
     "text": [
      "Please enter a number between 0 to 10: 1\n",
      "\n",
      "The Squared value of the number is 1\n"
     ]
    }
   ],
   "source": [
    "num = int(input('Please enter a number between 0 to 10: '))\n",
    "print('\\nThe Squared value of the number is', num*num)"
   ]
  },
  {
   "cell_type": "code",
   "execution_count": 78,
   "id": "7c17bbca",
   "metadata": {},
   "outputs": [
    {
     "name": "stdout",
     "output_type": "stream",
     "text": [
      "Sales Value is: 23000.0\n"
     ]
    },
    {
     "ename": "ValueError",
     "evalue": "invalid literal for int() with base 10: '23000.0'",
     "output_type": "error",
     "traceback": [
      "\u001b[1;31m---------------------------------------------------------------------------\u001b[0m",
      "\u001b[1;31mValueError\u001b[0m                                Traceback (most recent call last)",
      "Cell \u001b[1;32mIn[78], line 1\u001b[0m\n\u001b[1;32m----> 1\u001b[0m sales \u001b[38;5;241m=\u001b[39m \u001b[38;5;28mint\u001b[39m(\u001b[38;5;28minput\u001b[39m(\u001b[38;5;124m\"\u001b[39m\u001b[38;5;124mSales Value is: \u001b[39m\u001b[38;5;124m\"\u001b[39m))\n\u001b[0;32m      2\u001b[0m \u001b[38;5;28mprint\u001b[39m(\u001b[38;5;124m\"\u001b[39m\u001b[38;5;124mSales is\u001b[39m\u001b[38;5;124m\"\u001b[39m, sales,\u001b[38;5;124m\"\u001b[39m\u001b[38;5;124mRs.\u001b[39m\u001b[38;5;124m\"\u001b[39m)\n",
      "\u001b[1;31mValueError\u001b[0m: invalid literal for int() with base 10: '23000.0'"
     ]
    }
   ],
   "source": [
    "sales = int(input(\"Sales Value is: \"))\n",
    "print(\"Sales is\", sales,\"Rs.\")"
   ]
  },
  {
   "cell_type": "raw",
   "id": "fc3982ea",
   "metadata": {},
   "source": [
    "The int() function in Python is used to convert a value to an integer.\n",
    "\n",
    "However, in your case, you are trying to convert a floating-point number (a number with a decimal point) to an integer using int(). \n",
    "\n",
    "The error is occurring because the int() function cannot directly convert a string representation of a floating-point number (like '23000.0') to an integer.\n",
    "\n",
    "If you want to accept a floating-point number as input, you should use the float() function instead of int()\n",
    "\n",
    "Here's how you can modify your code:"
   ]
  },
  {
   "cell_type": "markdown",
   "id": "34d00a6a",
   "metadata": {},
   "source": [
    "### Float()"
   ]
  },
  {
   "cell_type": "code",
   "execution_count": 79,
   "id": "55221b65",
   "metadata": {
    "scrolled": true
   },
   "outputs": [
    {
     "name": "stdout",
     "output_type": "stream",
     "text": [
      "Sales Value is: 25000.0\n",
      "Sales is 25000.0 Rs.\n"
     ]
    }
   ],
   "source": [
    "sales = float(input(\"Sales Value is: \"))\n",
    "print(\"Sales is\", sales,\"Rs.\")"
   ]
  },
  {
   "cell_type": "code",
   "execution_count": 80,
   "id": "54a5dcda",
   "metadata": {},
   "outputs": [
    {
     "name": "stdout",
     "output_type": "stream",
     "text": [
      "Sales Value is: 2300\n",
      "Sales is 2300.0 Rs.\n"
     ]
    }
   ],
   "source": [
    "sales = float(input(\"Sales Value is: \"))\n",
    "print(\"Sales is\", sales,\"Rs.\")"
   ]
  },
  {
   "cell_type": "markdown",
   "id": "21b07fac",
   "metadata": {},
   "source": [
    "# eval()"
   ]
  },
  {
   "cell_type": "markdown",
   "id": "f447963b",
   "metadata": {},
   "source": [
    ">The eval() method parses the expression passed to it and runs python expression(code) within the program."
   ]
  },
  {
   "cell_type": "raw",
   "id": "26f7c8f8",
   "metadata": {},
   "source": [
    "Evaluator operator is a function which evaluate the input supplied by the user if it is integer it assigned 'int' datatype to it and if it is floating it will assign 'float' datatyppe to it."
   ]
  },
  {
   "cell_type": "code",
   "execution_count": 85,
   "id": "6fae4f75",
   "metadata": {
    "scrolled": true
   },
   "outputs": [
    {
     "name": "stdout",
     "output_type": "stream",
     "text": [
      "Please enter your marks in Percentage: 34\n",
      "Your score is  34\n"
     ]
    },
    {
     "data": {
      "text/plain": [
       "int"
      ]
     },
     "execution_count": 85,
     "metadata": {},
     "output_type": "execute_result"
    }
   ],
   "source": [
    "marks=eval(input(\"Please enter your marks in Percentage: \"))\n",
    "print(\"Your score is \",marks)\n",
    "type(marks)"
   ]
  },
  {
   "cell_type": "code",
   "execution_count": 86,
   "id": "05b23fe2",
   "metadata": {},
   "outputs": [
    {
     "name": "stdout",
     "output_type": "stream",
     "text": [
      "Please enter your marks in Percentage: 85.0\n",
      "Your score is  85.0\n"
     ]
    },
    {
     "data": {
      "text/plain": [
       "float"
      ]
     },
     "execution_count": 86,
     "metadata": {},
     "output_type": "execute_result"
    }
   ],
   "source": [
    "marks=eval(input(\"Please enter your marks in Percentage: \"))\n",
    "print(\"Your score is \",marks)\n",
    "type(marks)"
   ]
  },
  {
   "cell_type": "code",
   "execution_count": 81,
   "id": "0ad24ffd",
   "metadata": {
    "scrolled": false
   },
   "outputs": [
    {
     "name": "stdout",
     "output_type": "stream",
     "text": [
      "Please enter a number between 0 to 10: 0.23\n",
      "\n",
      "The Squared value of the number is 0.0529\n"
     ]
    }
   ],
   "source": [
    "num = eval(input('Please enter a number between 0 to 10: '))\n",
    "print('\\nThe Squared value of the number is', num*num)"
   ]
  },
  {
   "cell_type": "code",
   "execution_count": 1,
   "id": "9d2e6f4a",
   "metadata": {},
   "outputs": [
    {
     "name": "stdout",
     "output_type": "stream",
     "text": [
      "Please specify your Name: muskan\n",
      "Please enter your Age: 34\n",
      "Please enter your Experience: 5\n",
      "muskan at the age of 34 working with an experience of 5 years\n"
     ]
    }
   ],
   "source": [
    "name = input(\"Please specify your Name: \")\n",
    "age = int(input(\"Please enter your Age: \"))\n",
    "exp = eval(input('Please enter your Experience: '))\n",
    "print('{} at the age of {} working with an experience of {} years'.format(name, age, exp))  #format function"
   ]
  },
  {
   "cell_type": "markdown",
   "id": "ca57019f",
   "metadata": {},
   "source": [
    "# Questions "
   ]
  },
  {
   "cell_type": "raw",
   "id": "e1120f99",
   "metadata": {},
   "source": [
    "1. Create a variable called break and assign it a value 5. See what happens and find out the reason behind the behavior that you see. "
   ]
  },
  {
   "cell_type": "code",
   "execution_count": 29,
   "id": "73da9006",
   "metadata": {},
   "outputs": [
    {
     "ename": "SyntaxError",
     "evalue": "invalid syntax (2709188746.py, line 1)",
     "output_type": "error",
     "traceback": [
      "\u001b[1;36m  Cell \u001b[1;32mIn[29], line 1\u001b[1;36m\u001b[0m\n\u001b[1;33m    break = 5\u001b[0m\n\u001b[1;37m          ^\u001b[0m\n\u001b[1;31mSyntaxError\u001b[0m\u001b[1;31m:\u001b[0m invalid syntax\n"
     ]
    }
   ],
   "source": [
    "break = 5"
   ]
  },
  {
   "cell_type": "raw",
   "id": "5a894d52",
   "metadata": {},
   "source": [
    "we cannot use break as a variable name because it is a python keyword."
   ]
  },
  {
   "cell_type": "raw",
   "id": "d6291801",
   "metadata": {},
   "source": [
    "2. Answer which of these are invalid variable names:\n",
    "_nation1record\n",
    "record1\n",
    "record_one\n",
    "record-one\n",
    "record^one\n",
    "continue   "
   ]
  },
  {
   "cell_type": "code",
   "execution_count": 31,
   "id": "f95c3f52",
   "metadata": {},
   "outputs": [
    {
     "data": {
      "text/plain": [
       "1"
      ]
     },
     "execution_count": 31,
     "metadata": {},
     "output_type": "execute_result"
    }
   ],
   "source": [
    "_nation =1\n",
    "_nation"
   ]
  },
  {
   "cell_type": "code",
   "execution_count": 32,
   "id": "39c28707",
   "metadata": {},
   "outputs": [
    {
     "ename": "SyntaxError",
     "evalue": "invalid decimal literal (112220481.py, line 1)",
     "output_type": "error",
     "traceback": [
      "\u001b[1;36m  Cell \u001b[1;32mIn[32], line 1\u001b[1;36m\u001b[0m\n\u001b[1;33m    1record=2\u001b[0m\n\u001b[1;37m    ^\u001b[0m\n\u001b[1;31mSyntaxError\u001b[0m\u001b[1;31m:\u001b[0m invalid decimal literal\n"
     ]
    }
   ],
   "source": [
    "1record=2\n",
    "1record"
   ]
  },
  {
   "cell_type": "code",
   "execution_count": 33,
   "id": "d347ddb4",
   "metadata": {},
   "outputs": [
    {
     "data": {
      "text/plain": [
       "3"
      ]
     },
     "execution_count": 33,
     "metadata": {},
     "output_type": "execute_result"
    }
   ],
   "source": [
    "record1=3\n",
    "record1"
   ]
  },
  {
   "cell_type": "code",
   "execution_count": 34,
   "id": "5e75b6a0",
   "metadata": {},
   "outputs": [
    {
     "data": {
      "text/plain": [
       "4"
      ]
     },
     "execution_count": 34,
     "metadata": {},
     "output_type": "execute_result"
    }
   ],
   "source": [
    "record_one=4\n",
    "record_one"
   ]
  },
  {
   "cell_type": "code",
   "execution_count": 35,
   "id": "957a49b7",
   "metadata": {},
   "outputs": [
    {
     "ename": "SyntaxError",
     "evalue": "cannot assign to expression here. Maybe you meant '==' instead of '='? (3361198509.py, line 1)",
     "output_type": "error",
     "traceback": [
      "\u001b[1;36m  Cell \u001b[1;32mIn[35], line 1\u001b[1;36m\u001b[0m\n\u001b[1;33m    record-one=5\u001b[0m\n\u001b[1;37m    ^\u001b[0m\n\u001b[1;31mSyntaxError\u001b[0m\u001b[1;31m:\u001b[0m cannot assign to expression here. Maybe you meant '==' instead of '='?\n"
     ]
    }
   ],
   "source": [
    "record-one=5\n",
    "record-one"
   ]
  },
  {
   "cell_type": "code",
   "execution_count": 36,
   "id": "9fbe2c28",
   "metadata": {},
   "outputs": [
    {
     "ename": "SyntaxError",
     "evalue": "cannot assign to expression here. Maybe you meant '==' instead of '='? (3787437291.py, line 1)",
     "output_type": "error",
     "traceback": [
      "\u001b[1;36m  Cell \u001b[1;32mIn[36], line 1\u001b[1;36m\u001b[0m\n\u001b[1;33m    record^one=6\u001b[0m\n\u001b[1;37m    ^\u001b[0m\n\u001b[1;31mSyntaxError\u001b[0m\u001b[1;31m:\u001b[0m cannot assign to expression here. Maybe you meant '==' instead of '='?\n"
     ]
    }
   ],
   "source": [
    "record^one=6\n",
    "record^one"
   ]
  },
  {
   "cell_type": "code",
   "execution_count": 37,
   "id": "5a1f33f4",
   "metadata": {},
   "outputs": [
    {
     "ename": "SyntaxError",
     "evalue": "invalid syntax (3191895663.py, line 1)",
     "output_type": "error",
     "traceback": [
      "\u001b[1;36m  Cell \u001b[1;32mIn[37], line 1\u001b[1;36m\u001b[0m\n\u001b[1;33m    continue=7\u001b[0m\n\u001b[1;37m            ^\u001b[0m\n\u001b[1;31mSyntaxError\u001b[0m\u001b[1;31m:\u001b[0m invalid syntax\n"
     ]
    }
   ],
   "source": [
    "continue=7"
   ]
  },
  {
   "cell_type": "raw",
   "id": "9e404cd0",
   "metadata": {},
   "source": [
    "3. Create two variables. One to store your birth year and another one to store current year. Now calculate your age using these two variables"
   ]
  },
  {
   "cell_type": "code",
   "execution_count": 30,
   "id": "3ad0a71f",
   "metadata": {},
   "outputs": [
    {
     "name": "stdout",
     "output_type": "stream",
     "text": [
      "Your age is: 23\n"
     ]
    }
   ],
   "source": [
    "birth_year=2000\n",
    "current_year=2023\n",
    "age = current_year - birth_year\n",
    "print(\"Your age is:\", age)"
   ]
  },
  {
   "cell_type": "raw",
   "id": "108fd436",
   "metadata": {},
   "source": [
    "4.Store your first, middle and last name in three different variables and then print your full name using these variables"
   ]
  },
  {
   "cell_type": "code",
   "execution_count": 18,
   "id": "d0bdfd0c",
   "metadata": {},
   "outputs": [
    {
     "name": "stdout",
     "output_type": "stream",
     "text": [
      "MuskanAfaqueAnsari\n"
     ]
    }
   ],
   "source": [
    "first_name = \"Muskan\"\n",
    "middle_name = \"Afaque\"\n",
    "Last_name = \"Ansari\"\n",
    "\n",
    "print(first_name + middle_name + Last_name)"
   ]
  },
  {
   "cell_type": "code",
   "execution_count": 7,
   "id": "fc1d509a",
   "metadata": {},
   "outputs": [],
   "source": [
    "first_name = \"Muskan\"\n",
    "middle_name = \"Afaque\"\n",
    "Last_name = \"Ansari\"\n"
   ]
  },
  {
   "cell_type": "code",
   "execution_count": 10,
   "id": "e02b62ca",
   "metadata": {
    "scrolled": true
   },
   "outputs": [
    {
     "data": {
      "text/plain": [
       "'Muskan  Afaque'"
      ]
     },
     "execution_count": 10,
     "metadata": {},
     "output_type": "execute_result"
    }
   ],
   "source": [
    "first_name+\"  \"+middle_name"
   ]
  },
  {
   "cell_type": "code",
   "execution_count": 31,
   "id": "a7f2370b",
   "metadata": {},
   "outputs": [
    {
     "name": "stdout",
     "output_type": "stream",
     "text": [
      "Enter the data: 2.9\n",
      "2.9\n",
      "<class 'float'>\n"
     ]
    }
   ],
   "source": [
    "a = eval(input(\"Enter the data: \"))#str\n",
    "print(a)\n",
    "print(type(a))"
   ]
  },
  {
   "cell_type": "code",
   "execution_count": null,
   "id": "6d72117c",
   "metadata": {},
   "outputs": [],
   "source": []
  }
 ],
 "metadata": {
  "kernelspec": {
   "display_name": "Python 3 (ipykernel)",
   "language": "python",
   "name": "python3"
  },
  "language_info": {
   "codemirror_mode": {
    "name": "ipython",
    "version": 3
   },
   "file_extension": ".py",
   "mimetype": "text/x-python",
   "name": "python",
   "nbconvert_exporter": "python",
   "pygments_lexer": "ipython3",
   "version": "3.10.13"
  }
 },
 "nbformat": 4,
 "nbformat_minor": 5
}
