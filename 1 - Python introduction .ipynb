{
 "cells": [
  {
   "cell_type": "markdown",
   "id": "369e82e6",
   "metadata": {},
   "source": [
    "# Python "
   ]
  },
  {
   "cell_type": "markdown",
   "id": "b978a275",
   "metadata": {},
   "source": [
    ">Python is a general purpose interpreted, interactive, object oriented and high level programming language with dynamic sementic.\n",
    "Python was created by Guido Van Rossum during 1985-1990 and is very easy to learn.\n",
    "\n",
    ">Language is not named after a snake, but after a comedy show \"Flying Circus\" which monty Python was a fan of.\n",
    "\n",
    ">Python is designed to be highly readable. It uses English keywords frequently as other languages uses Punctation and it has fewer syntactical constructions than other languages."
   ]
  },
  {
   "cell_type": "markdown",
   "id": "b60453d7",
   "metadata": {},
   "source": [
    "#### Following are the important features of Python Programming:\n",
    "\n",
    ">1.SIMPLE AND EASY TO UNDERSTAND-\n",
    "\n",
    ">It is simple and easy to learn and understand with very limited syntax which feels like reading simple english.\n",
    "\n",
    ">2.FREE AND OPEN SOURCE-\n",
    "\n",
    ">Python is developed under an OSI-approved i.e open source license. Hence it is completely free to use. It can be freely modified .It does'nt cost anything to download Python and to include it in our application.\n",
    "\n",
    ">3.IT IS PORTABLE-\n",
    "\n",
    ">Python is portable in the sense that the same code can be used on different platforms. For instance suppose yi=ou write a python code on a Mac the same can be run on Windows and Linux later, we don't have to change it, i.e we don't have to write programs multiple times .\n",
    "\n",
    ">4.OBJECT ORIENTED PROGRAMMING SYSTEM (OOPs)-\n",
    "\n",
    ">One of the critical feature of Python is that it supports both OBJECT-ORIENTED and PROCEDURE ORINTED PROGRAMMING. A programming language is OBJECT- ORIENTED when it focuses on design around data and objects, rather than functions and logics. On The Contrary a language is PROCEDURE-ORIENTED if it focuses more on functions. But python supports both of the programmings.\n",
    "\n",
    ">5.EXTENSIBE-\n",
    "\n",
    ">A programming language is said to be extensible if it can be extended to other languages. Python code can also be written on other languages like C++, making it highly extensible language.\n",
    "\n",
    ">6.IT IS INTERPRETED-\n",
    "\n",
    ">When a programming language is interpreted, it means that the source code is executed line by line, and not all at once. Programming languages like C++, Java are not interpreted, and hence need to be compiled before running. But there is no need to compile python because it is processed at the runtime by interpreter.\n",
    "\n",
    ">7.DYNAMICALLY TYPED-\n",
    "\n",
    ">Many programming languages need to declare the type of variable before runtime. With python the type of variable can be decided during runtime. This makes python a dynamically typed language.\n",
    "\n",
    ">8.HIGH LEVEL PROGRAMMING LANGUAGE-\n",
    "\n",
    ">Python is a high- level programming language because programmers do not need to remember the system architecture, nor do the have to manage the memory. This makes it super programmer-friendly and is one of the key feature of python."
   ]
  },
  {
   "cell_type": "markdown",
   "id": "0db8c8f1",
   "metadata": {},
   "source": [
    " Applications of Python :\n",
    "\n",
    ">Youtube : The popular youtube video sharing service is largely written in python.\n",
    "\n",
    ">Google: It makes extensive use of python in its web search systems.\n",
    "\n",
    ">GUI Programming: Python supports GUI application that can be created and ported to many system calls, libraries and windows systems, such as Windows MFC, Macintosh and the X window system of Unix.\n",
    "\n",
    ">Data Analytics, Business Analytics and Machine Learning.\n",
    "\n",
    ">Raspberry pi : Its singleboard computer promotes python as its educational language.\n",
    "\n",
    ">Game Development.\n",
    "\n",
    ">IOT and Robotics."
   ]
  },
  {
   "cell_type": "raw",
   "id": "343d1d0c",
   "metadata": {},
   "source": [
    "Case Sensitive Language\n",
    "print <> Print <> PRINT"
   ]
  },
  {
   "cell_type": "markdown",
   "id": "783ec45b",
   "metadata": {},
   "source": [
    "# python | output using print() function  "
   ]
  },
  {
   "cell_type": "markdown",
   "id": "88b6b867",
   "metadata": {},
   "source": [
    ">1.The simplest way to produce output is using the print() function where you can pass zero or more expressions by commas.\n",
    "\n",
    ">2.This function converts the expressions you pass into a string before writing to the screen."
   ]
  },
  {
   "cell_type": "code",
   "execution_count": 1,
   "id": "f4286b58",
   "metadata": {
    "scrolled": true
   },
   "outputs": [
    {
     "name": "stdout",
     "output_type": "stream",
     "text": [
      "Hello World!!!\n"
     ]
    }
   ],
   "source": [
    "print(\"Hello World!!!\")  #print is a output statement"
   ]
  },
  {
   "cell_type": "code",
   "execution_count": 4,
   "id": "34e84e6f",
   "metadata": {},
   "outputs": [
    {
     "name": "stdout",
     "output_type": "stream",
     "text": [
      "hi....\n"
     ]
    }
   ],
   "source": [
    "print ('hi....')"
   ]
  },
  {
   "cell_type": "code",
   "execution_count": 5,
   "id": "e90905cc",
   "metadata": {},
   "outputs": [
    {
     "ename": "SyntaxError",
     "evalue": "invalid syntax (705209432.py, line 1)",
     "output_type": "error",
     "traceback": [
      "\u001b[1;36m  Cell \u001b[1;32mIn[5], line 1\u001b[1;36m\u001b[0m\n\u001b[1;33m    print(\"hello\"..)\u001b[0m\n\u001b[1;37m                  ^\u001b[0m\n\u001b[1;31mSyntaxError\u001b[0m\u001b[1;31m:\u001b[0m invalid syntax\n"
     ]
    }
   ],
   "source": [
    "print(\"hello\"..)"
   ]
  },
  {
   "cell_type": "code",
   "execution_count": 2,
   "id": "2ce6e59b",
   "metadata": {},
   "outputs": [
    {
     "ename": "IndentationError",
     "evalue": "unexpected indent (1270584385.py, line 2)",
     "output_type": "error",
     "traceback": [
      "\u001b[1;36m  Cell \u001b[1;32mIn[2], line 2\u001b[1;36m\u001b[0m\n\u001b[1;33m    print('Hello World')\u001b[0m\n\u001b[1;37m    ^\u001b[0m\n\u001b[1;31mIndentationError\u001b[0m\u001b[1;31m:\u001b[0m unexpected indent\n"
     ]
    }
   ],
   "source": [
    "print('Hello world')\n",
    "            print('Hello World')"
   ]
  },
  {
   "cell_type": "code",
   "execution_count": 3,
   "id": "6a497ab7",
   "metadata": {},
   "outputs": [
    {
     "name": "stdout",
     "output_type": "stream",
     "text": [
      "1.1 1.2 1.3\n"
     ]
    }
   ],
   "source": [
    "print(1.1,1.2,1.3)"
   ]
  },
  {
   "cell_type": "code",
   "execution_count": 4,
   "id": "e0ce5b0c",
   "metadata": {
    "scrolled": true
   },
   "outputs": [
    {
     "name": "stdout",
     "output_type": "stream",
     "text": [
      "this is example 3 of print funtion\n"
     ]
    }
   ],
   "source": [
    "#way1\n",
    "print('this is example',3,'of print funtion')"
   ]
  },
  {
   "cell_type": "code",
   "execution_count": 3,
   "id": "97d36edb",
   "metadata": {},
   "outputs": [
    {
     "name": "stdout",
     "output_type": "stream",
     "text": [
      "this is example 3 of print funtion\n"
     ]
    }
   ],
   "source": [
    "#way2\n",
    "print('this is example 3 of print funtion')\n"
   ]
  },
  {
   "cell_type": "code",
   "execution_count": 5,
   "id": "866975b1",
   "metadata": {},
   "outputs": [
    {
     "name": "stdout",
     "output_type": "stream",
     "text": [
      "we can also print the variable\n"
     ]
    }
   ],
   "source": [
    "x = 'we can also print the variable'\n",
    "print(x)"
   ]
  },
  {
   "cell_type": "raw",
   "id": "f2bb031b",
   "metadata": {},
   "source": [
    "print function has default new line argument, which means after printing the statement,it moves the cursor to the new line."
   ]
  },
  {
   "cell_type": "code",
   "execution_count": 2,
   "id": "4664cff9",
   "metadata": {},
   "outputs": [
    {
     "name": "stdout",
     "output_type": "stream",
     "text": [
      "this is line one this is line two\n"
     ]
    }
   ],
   "source": [
    "print(\"this is line one\")\n",
    "print(\"this is line two\")"
   ]
  },
  {
   "cell_type": "code",
   "execution_count": 4,
   "id": "83d6fc57",
   "metadata": {},
   "outputs": [
    {
     "name": "stdout",
     "output_type": "stream",
     "text": [
      "this is line one |this is line two\n"
     ]
    }
   ],
   "source": [
    "# however can overwrite this end line arguments by simple doing this...\n",
    "print(\"this is line one\",end=\" |\")\n",
    "print(\"this is line two\")"
   ]
  },
  {
   "cell_type": "code",
   "execution_count": 8,
   "id": "7c8f120c",
   "metadata": {},
   "outputs": [
    {
     "name": "stdout",
     "output_type": "stream",
     "text": [
      "1\n",
      "2\n",
      "3\n"
     ]
    }
   ],
   "source": [
    "print(1)\n",
    "print(2)\n",
    "print(3)"
   ]
  },
  {
   "cell_type": "code",
   "execution_count": 6,
   "id": "77b6994b",
   "metadata": {},
   "outputs": [
    {
     "name": "stdout",
     "output_type": "stream",
     "text": [
      "1  2  3\n"
     ]
    }
   ],
   "source": [
    "print(1,end=\"  \")\n",
    "print(2,end=\"  \")\n",
    "print(3)"
   ]
  },
  {
   "cell_type": "code",
   "execution_count": 17,
   "id": "82a98f9c",
   "metadata": {},
   "outputs": [],
   "source": [
    "#a = variable #10=value \n",
    "# = is assignment operator \n",
    "a = 10"
   ]
  },
  {
   "cell_type": "code",
   "execution_count": 18,
   "id": "41519714",
   "metadata": {},
   "outputs": [
    {
     "data": {
      "text/plain": [
       "10"
      ]
     },
     "execution_count": 18,
     "metadata": {},
     "output_type": "execute_result"
    }
   ],
   "source": [
    "a"
   ]
  },
  {
   "cell_type": "code",
   "execution_count": 21,
   "id": "574a6be3",
   "metadata": {},
   "outputs": [
    {
     "name": "stdout",
     "output_type": "stream",
     "text": [
      "30\n"
     ]
    }
   ],
   "source": [
    "b = 20\n",
    "x = a + b\n",
    "print(x)"
   ]
  },
  {
   "cell_type": "raw",
   "id": "6e4cd381",
   "metadata": {},
   "source": [
    "Types of Errors"
   ]
  },
  {
   "cell_type": "markdown",
   "id": "debbf82b",
   "metadata": {},
   "source": [
    "# Indentation Error \n",
    "\n",
    ">Indentatation refers to the spaces at the begining of the code line. \n",
    "\n",
    ">It is very important as Python uses indentation to indicate a block of code.\n",
    "\n",
    ">If the indentation id not correct we will endup with IndentationError error."
   ]
  },
  {
   "cell_type": "code",
   "execution_count": 13,
   "id": "ecdd6e78",
   "metadata": {},
   "outputs": [
    {
     "name": "stdout",
     "output_type": "stream",
     "text": [
      "1\n",
      "2\n"
     ]
    }
   ],
   "source": [
    "print(1)\n",
    "print(2)"
   ]
  },
  {
   "cell_type": "code",
   "execution_count": 14,
   "id": "87a26d6e",
   "metadata": {},
   "outputs": [
    {
     "ename": "IndentationError",
     "evalue": "unexpected indent (4226839908.py, line 2)",
     "output_type": "error",
     "traceback": [
      "\u001b[1;36m  Cell \u001b[1;32mIn[14], line 2\u001b[1;36m\u001b[0m\n\u001b[1;33m    print(2)\u001b[0m\n\u001b[1;37m    ^\u001b[0m\n\u001b[1;31mIndentationError\u001b[0m\u001b[1;31m:\u001b[0m unexpected indent\n"
     ]
    }
   ],
   "source": [
    "print(1)\n",
    "  print(2)"
   ]
  },
  {
   "cell_type": "code",
   "execution_count": 26,
   "id": "872125b7",
   "metadata": {},
   "outputs": [
    {
     "name": "stdout",
     "output_type": "stream",
     "text": [
      "P is equal to 10\n"
     ]
    }
   ],
   "source": [
    "p = 10\n",
    "if p == 10:\n",
    "    print('P is equal to 10')  # correct indentation"
   ]
  },
  {
   "cell_type": "code",
   "execution_count": 16,
   "id": "dc4fa1f3",
   "metadata": {},
   "outputs": [
    {
     "ename": "IndentationError",
     "evalue": "expected an indented block after 'if' statement on line 3 (595780228.py, line 4)",
     "output_type": "error",
     "traceback": [
      "\u001b[1;36m  Cell \u001b[1;32mIn[16], line 4\u001b[1;36m\u001b[0m\n\u001b[1;33m    print('P is equal to 10')\u001b[0m\n\u001b[1;37m    ^\u001b[0m\n\u001b[1;31mIndentationError\u001b[0m\u001b[1;31m:\u001b[0m expected an indented block after 'if' statement on line 3\n"
     ]
    }
   ],
   "source": [
    "#if indentation skipped we will encounter the Indentation Error\n",
    "p = 10\n",
    "if p == 10:\n",
    "print('P is equal to 10')"
   ]
  },
  {
   "cell_type": "markdown",
   "id": "f2580f4a",
   "metadata": {},
   "source": [
    "### Syntax Error \n",
    "\n",
    ">Syntax error are the most basic type of error.\n",
    "\n",
    ">They arise when the python paraser is unable to understand a line of code.\n",
    "\n",
    ">A python program must have correct syntax error will occur.The program will not be executed."
   ]
  },
  {
   "cell_type": "code",
   "execution_count": 17,
   "id": "266d7453",
   "metadata": {
    "scrolled": true
   },
   "outputs": [
    {
     "ename": "NameError",
     "evalue": "name 'd' is not defined",
     "output_type": "error",
     "traceback": [
      "\u001b[1;31m---------------------------------------------------------------------------\u001b[0m",
      "\u001b[1;31mNameError\u001b[0m                                 Traceback (most recent call last)",
      "Cell \u001b[1;32mIn[17], line 1\u001b[0m\n\u001b[1;32m----> 1\u001b[0m d\n",
      "\u001b[1;31mNameError\u001b[0m: name 'd' is not defined"
     ]
    }
   ],
   "source": [
    "d"
   ]
  },
  {
   "cell_type": "code",
   "execution_count": 1,
   "id": "ac47f3a0",
   "metadata": {
    "scrolled": true
   },
   "outputs": [
    {
     "ename": "SyntaxError",
     "evalue": "incomplete input (1039481549.py, line 1)",
     "output_type": "error",
     "traceback": [
      "\u001b[1;36m  Cell \u001b[1;32mIn[1], line 1\u001b[1;36m\u001b[0m\n\u001b[1;33m    print('hii'\u001b[0m\n\u001b[1;37m               ^\u001b[0m\n\u001b[1;31mSyntaxError\u001b[0m\u001b[1;31m:\u001b[0m incomplete input\n"
     ]
    }
   ],
   "source": [
    "print('hii'"
   ]
  },
  {
   "cell_type": "code",
   "execution_count": 2,
   "id": "e8d15580",
   "metadata": {},
   "outputs": [
    {
     "ename": "SyntaxError",
     "evalue": "unterminated string literal (detected at line 1) (1451351061.py, line 1)",
     "output_type": "error",
     "traceback": [
      "\u001b[1;36m  Cell \u001b[1;32mIn[2], line 1\u001b[1;36m\u001b[0m\n\u001b[1;33m    print('hii)\u001b[0m\n\u001b[1;37m          ^\u001b[0m\n\u001b[1;31mSyntaxError\u001b[0m\u001b[1;31m:\u001b[0m unterminated string literal (detected at line 1)\n"
     ]
    }
   ],
   "source": [
    "print('hii)"
   ]
  },
  {
   "cell_type": "raw",
   "id": "7bc628c1",
   "metadata": {},
   "source": [
    "Usual causes :\n",
    "    \n",
    "A mistyped variable name or function name \n",
    "\n",
    "Using a variable before it is defined "
   ]
  },
  {
   "cell_type": "markdown",
   "id": "8e0b9a60",
   "metadata": {},
   "source": [
    "### Semantic Error /Logic error :\n",
    "\n",
    ">Semantic and logic errors are problems with the design of your program.\n",
    "\n",
    ">These usually do not produce any error message,but instead cause your program to behave incorrectly.\n",
    "\n",
    ">These types of errors can be tricky to track down."
   ]
  },
  {
   "cell_type": "markdown",
   "id": "5dd598cf",
   "metadata": {},
   "source": [
    "# Commenting "
   ]
  },
  {
   "cell_type": "code",
   "execution_count": 27,
   "id": "4ca18e11",
   "metadata": {},
   "outputs": [],
   "source": [
    "# Single Line Commenting - Ctrl + /"
   ]
  },
  {
   "cell_type": "code",
   "execution_count": 28,
   "id": "a3c11c8b",
   "metadata": {},
   "outputs": [],
   "source": [
    "# This is to demonstrate how things\n",
    "# work in python\n",
    "# in terms of commenting     #Ctrl + A and Ctrl + /"
   ]
  },
  {
   "cell_type": "code",
   "execution_count": 29,
   "id": "25a9d9d5",
   "metadata": {},
   "outputs": [
    {
     "data": {
      "text/plain": [
       "'\\nThis is to demonstrate how things\\nwork in python\\nin terms of double line commenting\\n'"
      ]
     },
     "execution_count": 29,
     "metadata": {},
     "output_type": "execute_result"
    }
   ],
   "source": [
    "\"\"\"\n",
    "This is to demonstrate how things\n",
    "work in python\n",
    "in terms of double line commenting\n",
    "\"\"\""
   ]
  },
  {
   "cell_type": "code",
   "execution_count": 30,
   "id": "550ff938",
   "metadata": {},
   "outputs": [
    {
     "data": {
      "text/plain": [
       "'\\nThis is to demonstrate how things\\nwork in python\\nin terms of double line commenting\\n'"
      ]
     },
     "execution_count": 30,
     "metadata": {},
     "output_type": "execute_result"
    }
   ],
   "source": [
    "'''\n",
    "This is to demonstrate how things\n",
    "work in python\n",
    "in terms of double line commenting\n",
    "'''"
   ]
  },
  {
   "cell_type": "markdown",
   "id": "11462597",
   "metadata": {},
   "source": [
    "# Escape Characters"
   ]
  },
  {
   "cell_type": "raw",
   "id": "9c9f9c80",
   "metadata": {},
   "source": [
    "# is used for making comments "
   ]
  },
  {
   "cell_type": "code",
   "execution_count": 34,
   "id": "1fd1be7b",
   "metadata": {},
   "outputs": [
    {
     "data": {
      "text/plain": [
       "10"
      ]
     },
     "execution_count": 34,
     "metadata": {},
     "output_type": "execute_result"
    }
   ],
   "source": [
    "#this is comment and this will not executed"
   ]
  },
  {
   "cell_type": "raw",
   "id": "36e9a155",
   "metadata": {},
   "source": [
    "\\n this is used to go on a new line "
   ]
  },
  {
   "cell_type": "code",
   "execution_count": 6,
   "id": "d6c0b859",
   "metadata": {},
   "outputs": [
    {
     "name": "stdout",
     "output_type": "stream",
     "text": [
      "this is\n",
      "new line\n"
     ]
    }
   ],
   "source": [
    "print('this is\\nnew line')"
   ]
  },
  {
   "cell_type": "raw",
   "id": "aa977fb3",
   "metadata": {},
   "source": [
    "\\t is used to give tab or extra spaces between words "
   ]
  },
  {
   "cell_type": "code",
   "execution_count": 8,
   "id": "f5377f82",
   "metadata": {},
   "outputs": [
    {
     "name": "stdout",
     "output_type": "stream",
     "text": [
      "this is \t\t tab example\n"
     ]
    }
   ],
   "source": [
    "print('this is \\t\\t tab example')"
   ]
  },
  {
   "cell_type": "code",
   "execution_count": 9,
   "id": "18d3acde",
   "metadata": {
    "scrolled": true
   },
   "outputs": [
    {
     "ename": "SyntaxError",
     "evalue": "unterminated string literal (detected at line 1) (3890878859.py, line 1)",
     "output_type": "error",
     "traceback": [
      "\u001b[1;36m  Cell \u001b[1;32mIn[9], line 1\u001b[1;36m\u001b[0m\n\u001b[1;33m    print('doesn't it sounds good')\u001b[0m\n\u001b[1;37m                                 ^\u001b[0m\n\u001b[1;31mSyntaxError\u001b[0m\u001b[1;31m:\u001b[0m unterminated string literal (detected at line 1)\n"
     ]
    }
   ],
   "source": [
    "print('doesn't it sounds good')"
   ]
  },
  {
   "cell_type": "raw",
   "id": "50da5123",
   "metadata": {},
   "source": [
    "To overcome this type of situation we escape the single quotes"
   ]
  },
  {
   "cell_type": "code",
   "execution_count": 11,
   "id": "d4bbf3c2",
   "metadata": {},
   "outputs": [
    {
     "name": "stdout",
     "output_type": "stream",
     "text": [
      "doesn't it sounds good\n"
     ]
    }
   ],
   "source": [
    "#way 1 \n",
    "print(\"doesn't it sounds good\")"
   ]
  },
  {
   "cell_type": "code",
   "execution_count": 10,
   "id": "deb9114f",
   "metadata": {},
   "outputs": [
    {
     "name": "stdout",
     "output_type": "stream",
     "text": [
      "doesn't it sounds good\n"
     ]
    }
   ],
   "source": [
    "print('doesn\\'t it sounds good')"
   ]
  },
  {
   "cell_type": "code",
   "execution_count": 2,
   "id": "af6784d9",
   "metadata": {},
   "outputs": [
    {
     "name": "stdout",
     "output_type": "stream",
     "text": [
      "Hello\bWorld!\n"
     ]
    }
   ],
   "source": [
    "print(\"Hello\\bWorld!\")"
   ]
  },
  {
   "cell_type": "markdown",
   "id": "c1d584f8",
   "metadata": {},
   "source": [
    "# Python Keywords"
   ]
  },
  {
   "cell_type": "markdown",
   "id": "40806450",
   "metadata": {},
   "source": [
    ">keywords are the reserved words in python .\n",
    "\n",
    ">we cannot use a keyword as a variable name and function name.\n",
    "\n",
    ">In python, keywords are case sensitive.\n",
    "\n",
    ">There are 36 keywords in python \n",
    "\n",
    ">All the keyword expect True or False and None are in lowercase "
   ]
  },
  {
   "cell_type": "code",
   "execution_count": 9,
   "id": "e2cb205e",
   "metadata": {},
   "outputs": [],
   "source": [
    "import keyword"
   ]
  },
  {
   "cell_type": "code",
   "execution_count": 11,
   "id": "758e3784",
   "metadata": {},
   "outputs": [
    {
     "name": "stdout",
     "output_type": "stream",
     "text": [
      "['False', 'None', 'True', 'and', 'as', 'assert', 'async', 'await', 'break', 'class', 'continue', 'def', 'del', 'elif', 'else', 'except', 'finally', 'for', 'from', 'global', 'if', 'import', 'in', 'is', 'lambda', 'nonlocal', 'not', 'or', 'pass', 'raise', 'return', 'try', 'while', 'with', 'yield']\n"
     ]
    }
   ],
   "source": [
    "print(keyword.kwlist)"
   ]
  },
  {
   "cell_type": "code",
   "execution_count": 50,
   "id": "827267eb",
   "metadata": {
    "scrolled": true
   },
   "outputs": [
    {
     "data": {
      "text/plain": [
       "35"
      ]
     },
     "execution_count": 50,
     "metadata": {},
     "output_type": "execute_result"
    }
   ],
   "source": [
    "len(keyword.kwlist)"
   ]
  },
  {
   "cell_type": "raw",
   "id": "db20297b",
   "metadata": {},
   "source": []
  },
  {
   "cell_type": "code",
   "execution_count": 13,
   "id": "b9155026",
   "metadata": {},
   "outputs": [],
   "source": [
    "true = 5 "
   ]
  },
  {
   "cell_type": "code",
   "execution_count": 14,
   "id": "17a9c0bf",
   "metadata": {},
   "outputs": [
    {
     "data": {
      "text/plain": [
       "5"
      ]
     },
     "execution_count": 14,
     "metadata": {},
     "output_type": "execute_result"
    }
   ],
   "source": [
    "true"
   ]
  },
  {
   "cell_type": "code",
   "execution_count": null,
   "id": "37ae4d32",
   "metadata": {},
   "outputs": [],
   "source": []
  }
 ],
 "metadata": {
  "kernelspec": {
   "display_name": "Python 3 (ipykernel)",
   "language": "python",
   "name": "python3"
  },
  "language_info": {
   "codemirror_mode": {
    "name": "ipython",
    "version": 3
   },
   "file_extension": ".py",
   "mimetype": "text/x-python",
   "name": "python",
   "nbconvert_exporter": "python",
   "pygments_lexer": "ipython3",
   "version": "3.10.13"
  }
 },
 "nbformat": 4,
 "nbformat_minor": 5
}
