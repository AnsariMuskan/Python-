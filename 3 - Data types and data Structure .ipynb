{
 "cells": [
  {
   "cell_type": "markdown",
   "id": "69ae65ef",
   "metadata": {},
   "source": [
    ">A variable can hold different types of values. For example,a person's name must be stored as a string whereas it's id must be stored as an integer.\n",
    "\n",
    ">Python provides various standard data types that define the storage method on each of them.the data types defined in Python are given below:"
   ]
  },
  {
   "cell_type": "markdown",
   "id": "17d66c2f",
   "metadata": {},
   "source": [
    "# Numbers"
   ]
  },
  {
   "cell_type": "markdown",
   "id": "09b709e1",
   "metadata": {},
   "source": [
    "Number stores numeric values. Python creates number objects when a number assigned to a variable.For example;\n",
    "a=3, b=5 #a and b are number objects.\n",
    "Python supports 4 types of numeric data.\n",
    "\n",
    ">int(signed integers like 10,2,12,etc.)\n",
    "\n",
    ">float(float is used to store floating point numbers like 1.9, 9.203,15.2,etc.)\n",
    "\n",
    ">complex(complex numbers like 2.14j,2.0 + 2.3j,etc.)\n",
    "\n",
    "A complex number contains an ordered pair i.e.x+iy where x and y denote real and imaginary parts respectively.\n"
   ]
  },
  {
   "cell_type": "markdown",
   "id": "dd9c0e6e",
   "metadata": {},
   "source": [
    "## interger "
   ]
  },
  {
   "cell_type": "code",
   "execution_count": 1,
   "id": "6a13bc1c",
   "metadata": {},
   "outputs": [],
   "source": [
    "a = 10"
   ]
  },
  {
   "cell_type": "code",
   "execution_count": 2,
   "id": "ab49f81d",
   "metadata": {},
   "outputs": [
    {
     "data": {
      "text/plain": [
       "int"
      ]
     },
     "execution_count": 2,
     "metadata": {},
     "output_type": "execute_result"
    }
   ],
   "source": [
    "type(a)"
   ]
  },
  {
   "cell_type": "code",
   "execution_count": 3,
   "id": "081d6e06",
   "metadata": {},
   "outputs": [
    {
     "name": "stdout",
     "output_type": "stream",
     "text": [
      "10 30\n"
     ]
    }
   ],
   "source": [
    "b = 30\n",
    "print(a,b)"
   ]
  },
  {
   "cell_type": "code",
   "execution_count": 4,
   "id": "2ad67359",
   "metadata": {},
   "outputs": [
    {
     "data": {
      "text/plain": [
       "30"
      ]
     },
     "execution_count": 4,
     "metadata": {},
     "output_type": "execute_result"
    }
   ],
   "source": [
    "a\n",
    "b"
   ]
  },
  {
   "cell_type": "code",
   "execution_count": 5,
   "id": "acf32852",
   "metadata": {
    "scrolled": true
   },
   "outputs": [
    {
     "name": "stdout",
     "output_type": "stream",
     "text": [
      "10\n",
      "30\n"
     ]
    }
   ],
   "source": [
    "print(a)\n",
    "print(b)"
   ]
  },
  {
   "cell_type": "code",
   "execution_count": 6,
   "id": "95f649aa",
   "metadata": {},
   "outputs": [
    {
     "data": {
      "text/plain": [
       "40"
      ]
     },
     "execution_count": 6,
     "metadata": {},
     "output_type": "execute_result"
    }
   ],
   "source": [
    "a + b"
   ]
  },
  {
   "cell_type": "code",
   "execution_count": 7,
   "id": "3891aa26",
   "metadata": {
    "scrolled": true
   },
   "outputs": [
    {
     "data": {
      "text/plain": [
       "100"
      ]
     },
     "execution_count": 7,
     "metadata": {},
     "output_type": "execute_result"
    }
   ],
   "source": [
    "a **2"
   ]
  },
  {
   "cell_type": "code",
   "execution_count": 8,
   "id": "a86e8791",
   "metadata": {},
   "outputs": [
    {
     "data": {
      "text/plain": [
       "-9"
      ]
     },
     "execution_count": 8,
     "metadata": {},
     "output_type": "execute_result"
    }
   ],
   "source": [
    "-3**2"
   ]
  },
  {
   "cell_type": "code",
   "execution_count": 9,
   "id": "ad4725c4",
   "metadata": {},
   "outputs": [
    {
     "data": {
      "text/plain": [
       "9"
      ]
     },
     "execution_count": 9,
     "metadata": {},
     "output_type": "execute_result"
    }
   ],
   "source": [
    "(-3)**2"
   ]
  },
  {
   "cell_type": "raw",
   "id": "66e16a28",
   "metadata": {},
   "source": [
    "Note that the exponentiation operator binds tighter than the negation (unary minus), so -3** 2 is in fact the same as -(3** 2).\n",
    "\n",
    "If you want to calculate (-3)** 2, you must say so explicitly."
   ]
  },
  {
   "cell_type": "code",
   "execution_count": 10,
   "id": "0bc6fc6d",
   "metadata": {},
   "outputs": [
    {
     "name": "stdout",
     "output_type": "stream",
     "text": [
      "Arithmetic operations on any number\n",
      "\n",
      "========================================================================================== \n",
      "\n",
      "Addition : 40 \n",
      "\n",
      "Subtraction : -20 \n",
      "\n",
      "Multiplication : 300 \n",
      "\n",
      "Division : 0.3333333333333333 \n",
      "\n",
      "Power : 1000 \n",
      "\n",
      "Floor Division : 0 \n",
      "\n",
      "Modulus : 0 \n",
      "\n"
     ]
    }
   ],
   "source": [
    "print(\"Arithmetic operations on any number\\n\")\n",
    "\n",
    "print(\"=========\"*10,'\\n')\n",
    "\n",
    "print(\"Addition :\", a+b,'\\n')\n",
    "\n",
    "print(\"Subtraction :\",a-b,'\\n')\n",
    "\n",
    "print(\"Multiplication :\",a*b,'\\n')\n",
    "\n",
    "print(\"Division :\",a/b,'\\n')\n",
    "\n",
    "print(\"Power :\",a**3,'\\n')\n",
    "\n",
    "#it dont take decimal values it only takes integer\n",
    "print(\"Floor Division :\",a//b,'\\n')\n",
    "\n",
    "#modulus is remainder of division\n",
    "print(\"Modulus :\",b%a,'\\n')"
   ]
  },
  {
   "cell_type": "code",
   "execution_count": 11,
   "id": "d5ef8245",
   "metadata": {},
   "outputs": [
    {
     "data": {
      "text/plain": [
       "12"
      ]
     },
     "execution_count": 11,
     "metadata": {},
     "output_type": "execute_result"
    }
   ],
   "source": [
    "abs(-12)"
   ]
  },
  {
   "cell_type": "raw",
   "id": "bd590caf",
   "metadata": {},
   "source": [
    "Integer divides integer but gives float as a output"
   ]
  },
  {
   "cell_type": "code",
   "execution_count": 13,
   "id": "a498c85a",
   "metadata": {},
   "outputs": [
    {
     "data": {
      "text/plain": [
       "5.0"
      ]
     },
     "execution_count": 13,
     "metadata": {},
     "output_type": "execute_result"
    }
   ],
   "source": [
    "10/2"
   ]
  },
  {
   "cell_type": "code",
   "execution_count": 14,
   "id": "4fc270be",
   "metadata": {},
   "outputs": [
    {
     "data": {
      "text/plain": [
       "1.6666666666666667"
      ]
     },
     "execution_count": 14,
     "metadata": {},
     "output_type": "execute_result"
    }
   ],
   "source": [
    "10/6"
   ]
  },
  {
   "cell_type": "code",
   "execution_count": 15,
   "id": "a5b7f204",
   "metadata": {},
   "outputs": [
    {
     "data": {
      "text/plain": [
       "1.67"
      ]
     },
     "execution_count": 15,
     "metadata": {},
     "output_type": "execute_result"
    }
   ],
   "source": [
    "round(10/6,2)"
   ]
  },
  {
   "cell_type": "code",
   "execution_count": 16,
   "id": "cf44ab98",
   "metadata": {},
   "outputs": [
    {
     "data": {
      "text/plain": [
       "1"
      ]
     },
     "execution_count": 16,
     "metadata": {},
     "output_type": "execute_result"
    }
   ],
   "source": [
    "10//6"
   ]
  },
  {
   "cell_type": "markdown",
   "id": "756e5af7",
   "metadata": {},
   "source": [
    "## Float "
   ]
  },
  {
   "cell_type": "markdown",
   "id": "4ef0a4bf",
   "metadata": {},
   "source": [
    ">Number with Decimals "
   ]
  },
  {
   "cell_type": "code",
   "execution_count": 2,
   "id": "b652a02e",
   "metadata": {},
   "outputs": [],
   "source": [
    "a = 10.5\n",
    "b = 7.5"
   ]
  },
  {
   "cell_type": "code",
   "execution_count": 3,
   "id": "c9500395",
   "metadata": {},
   "outputs": [
    {
     "data": {
      "text/plain": [
       "float"
      ]
     },
     "execution_count": 3,
     "metadata": {},
     "output_type": "execute_result"
    }
   ],
   "source": [
    "type(a)"
   ]
  },
  {
   "cell_type": "code",
   "execution_count": 4,
   "id": "f3731e5d",
   "metadata": {},
   "outputs": [
    {
     "data": {
      "text/plain": [
       "18.0"
      ]
     },
     "execution_count": 4,
     "metadata": {},
     "output_type": "execute_result"
    }
   ],
   "source": [
    "a+b"
   ]
  },
  {
   "cell_type": "code",
   "execution_count": 5,
   "id": "625aef76",
   "metadata": {},
   "outputs": [
    {
     "data": {
      "text/plain": [
       "0.7142857142857143"
      ]
     },
     "execution_count": 5,
     "metadata": {},
     "output_type": "execute_result"
    }
   ],
   "source": [
    "b/a"
   ]
  },
  {
   "cell_type": "code",
   "execution_count": 6,
   "id": "e1491d8f",
   "metadata": {
    "scrolled": false
   },
   "outputs": [
    {
     "name": "stdout",
     "output_type": "stream",
     "text": [
      "Arithmetic operations on any number\n",
      "\n",
      "================================================================================ \n",
      "\n",
      "A is 10.5 and B is 7.5 \n",
      "\n",
      "Addition : 18.0 \n",
      "\n",
      "Subtraction : 3.0 \n",
      "\n",
      "Multiplication : 78.75 \n",
      "\n",
      "Division : 1.4 \n",
      "\n",
      "Power : 1157.625 \n",
      "\n",
      "Floor Division : 1.0 \n",
      "\n",
      "Modulus : 3.0 \n",
      "\n"
     ]
    }
   ],
   "source": [
    "print('Arithmetic operations on any number\\n')\n",
    "\n",
    "print('========'*10,'\\n')\n",
    "\n",
    "print('A is',a,\"and\",\"B is\",b,\"\\n\")\n",
    "\n",
    "print('Addition :',a+b,'\\n')\n",
    "\n",
    "print('Subtraction :',a-b,'\\n')\n",
    "\n",
    "print('Multiplication :',a*b,'\\n')\n",
    "\n",
    "print('Division :',a/b,'\\n')\n",
    "\n",
    "print('Power :',a**3,'\\n')\n",
    "\n",
    "print('Floor Division :',a//b,'\\n')\n",
    "\n",
    "#modulus is remainder of division\n",
    "print('Modulus :',a%b,'\\n')   "
   ]
  },
  {
   "cell_type": "code",
   "execution_count": 22,
   "id": "1170ef0f",
   "metadata": {},
   "outputs": [
    {
     "data": {
      "text/plain": [
       "0.5"
      ]
     },
     "execution_count": 22,
     "metadata": {},
     "output_type": "execute_result"
    }
   ],
   "source": [
    "#float gives float as output\n",
    "\n",
    "1.0/2.0   "
   ]
  },
  {
   "cell_type": "code",
   "execution_count": 23,
   "id": "e5c6ab01",
   "metadata": {},
   "outputs": [
    {
     "data": {
      "text/plain": [
       "0.5"
      ]
     },
     "execution_count": 23,
     "metadata": {},
     "output_type": "execute_result"
    }
   ],
   "source": [
    "#integer devides float but gives float as output\n",
    "\n",
    "1/2.0"
   ]
  },
  {
   "cell_type": "code",
   "execution_count": 24,
   "id": "f3313486",
   "metadata": {},
   "outputs": [
    {
     "data": {
      "text/plain": [
       "0.5"
      ]
     },
     "execution_count": 24,
     "metadata": {},
     "output_type": "execute_result"
    }
   ],
   "source": [
    "1.0/2    "
   ]
  },
  {
   "cell_type": "code",
   "execution_count": 25,
   "id": "a526af69",
   "metadata": {},
   "outputs": [
    {
     "data": {
      "text/plain": [
       "0.5"
      ]
     },
     "execution_count": 25,
     "metadata": {},
     "output_type": "execute_result"
    }
   ],
   "source": [
    "#integer devides float but gives float as output\n",
    "\n",
    "1/2"
   ]
  },
  {
   "cell_type": "markdown",
   "id": "fea452f3",
   "metadata": {},
   "source": [
    "## Complex"
   ]
  },
  {
   "cell_type": "markdown",
   "id": "623e6eac",
   "metadata": {},
   "source": [
    ">Where you can use real and imaginary parts\n",
    "\n",
    ">Complex numbers are used for electrical signal processing, almost all of electrical rely heavily on complex number calculations "
   ]
  },
  {
   "cell_type": "code",
   "execution_count": 27,
   "id": "b25aab10",
   "metadata": {},
   "outputs": [],
   "source": [
    "c1 = 2+3j\n",
    "c2 = 5-6j"
   ]
  },
  {
   "cell_type": "code",
   "execution_count": 28,
   "id": "a94b584c",
   "metadata": {},
   "outputs": [
    {
     "data": {
      "text/plain": [
       "(2+3j)"
      ]
     },
     "execution_count": 28,
     "metadata": {},
     "output_type": "execute_result"
    }
   ],
   "source": [
    "c1"
   ]
  },
  {
   "cell_type": "code",
   "execution_count": 29,
   "id": "a3628d8e",
   "metadata": {},
   "outputs": [
    {
     "data": {
      "text/plain": [
       "(5-6j)"
      ]
     },
     "execution_count": 29,
     "metadata": {},
     "output_type": "execute_result"
    }
   ],
   "source": [
    "c2"
   ]
  },
  {
   "cell_type": "code",
   "execution_count": 30,
   "id": "e8e6fc0c",
   "metadata": {},
   "outputs": [
    {
     "data": {
      "text/plain": [
       "complex"
      ]
     },
     "execution_count": 30,
     "metadata": {},
     "output_type": "execute_result"
    }
   ],
   "source": [
    "type(c1)"
   ]
  },
  {
   "cell_type": "code",
   "execution_count": 31,
   "id": "8a095b28",
   "metadata": {
    "scrolled": true
   },
   "outputs": [
    {
     "name": "stdout",
     "output_type": "stream",
     "text": [
      "(7-3j)\n"
     ]
    }
   ],
   "source": [
    "c3= c1+c2\n",
    "print(c3)"
   ]
  },
  {
   "cell_type": "code",
   "execution_count": 32,
   "id": "f379a28a",
   "metadata": {},
   "outputs": [
    {
     "name": "stdout",
     "output_type": "stream",
     "text": [
      "(-3+9j)\n"
     ]
    }
   ],
   "source": [
    "c3= c1-c2\n",
    "print(c3)"
   ]
  },
  {
   "cell_type": "code",
   "execution_count": 33,
   "id": "070e4164",
   "metadata": {},
   "outputs": [
    {
     "data": {
      "text/plain": [
       "-3.0"
      ]
     },
     "execution_count": 33,
     "metadata": {},
     "output_type": "execute_result"
    }
   ],
   "source": [
    "c3.real"
   ]
  },
  {
   "cell_type": "code",
   "execution_count": 34,
   "id": "0750d2e6",
   "metadata": {
    "scrolled": true
   },
   "outputs": [
    {
     "data": {
      "text/plain": [
       "9.0"
      ]
     },
     "execution_count": 34,
     "metadata": {},
     "output_type": "execute_result"
    }
   ],
   "source": [
    "c3.imag"
   ]
  },
  {
   "cell_type": "code",
   "execution_count": 35,
   "id": "1a4cab9f",
   "metadata": {},
   "outputs": [
    {
     "name": "stdout",
     "output_type": "stream",
     "text": [
      "Addition : (7-3j)\n",
      "Subtraction : (-3+9j)\n",
      "Multiplication : (28+3j)\n",
      "Division : (-0.13114754098360654+0.44262295081967207j)\n"
     ]
    }
   ],
   "source": [
    "print(\"Addition :\",c1+c2)\n",
    "\n",
    "print(\"Subtraction :\",c1-c2)\n",
    "\n",
    "print(\"Multiplication :\",c1*c2)\n",
    "\n",
    "print(\"Division :\",c1/c2)"
   ]
  },
  {
   "cell_type": "markdown",
   "id": "72b9bdad",
   "metadata": {},
   "source": [
    "# Datatype:\n",
    "    \n",
    ">immutable : numbers ,string ,tuples \n",
    "\n",
    ">mutable: List ,Dictionaries,sets"
   ]
  },
  {
   "cell_type": "raw",
   "id": "cd70e9fe",
   "metadata": {},
   "source": [
    "If the values has been assigned to that datatype and it cannot be changed then it is called Immutable datatype.\n",
    "\n",
    "The best example is tuple , if a value is present in the tuple then you cannot update them.\n",
    "\n",
    "This is some what similar to a fixed list where where you cannot modify the existing values.\n",
    "\n",
    ".Types of Immutable Datatypes :\n",
    "\n",
    "1 -Numeric\n",
    "2 -String \n",
    "3 -Tuple"
   ]
  },
  {
   "cell_type": "markdown",
   "id": "02666cdb",
   "metadata": {},
   "source": [
    "## Mutable"
   ]
  },
  {
   "cell_type": "raw",
   "id": "8b50f90e",
   "metadata": {},
   "source": [
    "If the vales has been assign to that datatype and it can be change then it is called mutable datatype.\n",
    "Types of mutable Datatypes\n",
    "\n",
    "1-List\n",
    "2-Dictionary\n",
    "3-Set\n"
   ]
  },
  {
   "cell_type": "markdown",
   "id": "284aec18",
   "metadata": {},
   "source": [
    "## Strings"
   ]
  },
  {
   "cell_type": "raw",
   "id": "82015933",
   "metadata": {},
   "source": [
    "String can be defined as a sequence of characters represented in a quotation marks.In python, we can use single or double quotes to define a string.\n",
    "\n",
    "The operator * is known as repitition operator as the operation \"Python\"*2 returns \"PythonPython\""
   ]
  },
  {
   "cell_type": "code",
   "execution_count": 25,
   "id": "5213875c",
   "metadata": {},
   "outputs": [],
   "source": [
    "a = \"Python\"\n",
    "b = 'Python'"
   ]
  },
  {
   "cell_type": "code",
   "execution_count": 26,
   "id": "1283b4bc",
   "metadata": {},
   "outputs": [
    {
     "data": {
      "text/plain": [
       "str"
      ]
     },
     "execution_count": 26,
     "metadata": {},
     "output_type": "execute_result"
    }
   ],
   "source": [
    "type(a)"
   ]
  },
  {
   "cell_type": "code",
   "execution_count": 27,
   "id": "247a69cb",
   "metadata": {},
   "outputs": [
    {
     "data": {
      "text/plain": [
       "str"
      ]
     },
     "execution_count": 27,
     "metadata": {},
     "output_type": "execute_result"
    }
   ],
   "source": [
    "type(b)"
   ]
  },
  {
   "cell_type": "code",
   "execution_count": 28,
   "id": "9e37cc3a",
   "metadata": {},
   "outputs": [
    {
     "name": "stdout",
     "output_type": "stream",
     "text": [
      "Python\n"
     ]
    }
   ],
   "source": [
    "print(a)"
   ]
  },
  {
   "cell_type": "code",
   "execution_count": 29,
   "id": "0747e617",
   "metadata": {},
   "outputs": [
    {
     "name": "stdout",
     "output_type": "stream",
     "text": [
      "PythonPythonPythonPythonPython\n"
     ]
    }
   ],
   "source": [
    "print(b*5) "
   ]
  },
  {
   "cell_type": "code",
   "execution_count": 30,
   "id": "6fac6b9f",
   "metadata": {},
   "outputs": [
    {
     "name": "stdout",
     "output_type": "stream",
     "text": [
      "Addition of a and b is:  PythonPython\n"
     ]
    }
   ],
   "source": [
    "c = a + b\n",
    "print(\"Addition of a and b is: \",c)"
   ]
  },
  {
   "cell_type": "markdown",
   "id": "3a759f41",
   "metadata": {},
   "source": [
    "## Booleans"
   ]
  },
  {
   "cell_type": "markdown",
   "id": "c6dd005a",
   "metadata": {},
   "source": [
    "\n",
    ">Python implements all of the usual operators for the boolean logic, but uses English symbols rather than symbols(&&,||,etc.)"
   ]
  },
  {
   "cell_type": "code",
   "execution_count": 31,
   "id": "1c5b92d9",
   "metadata": {},
   "outputs": [],
   "source": [
    "a = True\n",
    "b = False"
   ]
  },
  {
   "cell_type": "code",
   "execution_count": 32,
   "id": "344011a7",
   "metadata": {},
   "outputs": [
    {
     "data": {
      "text/plain": [
       "True"
      ]
     },
     "execution_count": 32,
     "metadata": {},
     "output_type": "execute_result"
    }
   ],
   "source": [
    "a"
   ]
  },
  {
   "cell_type": "code",
   "execution_count": 33,
   "id": "03f74da8",
   "metadata": {},
   "outputs": [
    {
     "data": {
      "text/plain": [
       "False"
      ]
     },
     "execution_count": 33,
     "metadata": {},
     "output_type": "execute_result"
    }
   ],
   "source": [
    "b"
   ]
  },
  {
   "cell_type": "code",
   "execution_count": 34,
   "id": "92e4fa53",
   "metadata": {},
   "outputs": [
    {
     "name": "stdout",
     "output_type": "stream",
     "text": [
      "<class 'bool'>\n"
     ]
    }
   ],
   "source": [
    "print(type(a))"
   ]
  },
  {
   "cell_type": "code",
   "execution_count": 35,
   "id": "22c2f6fb",
   "metadata": {},
   "outputs": [],
   "source": [
    "p = 30\n",
    "q = 40"
   ]
  },
  {
   "cell_type": "code",
   "execution_count": 36,
   "id": "685ebd47",
   "metadata": {},
   "outputs": [
    {
     "data": {
      "text/plain": [
       "False"
      ]
     },
     "execution_count": 36,
     "metadata": {},
     "output_type": "execute_result"
    }
   ],
   "source": [
    "p>50"
   ]
  },
  {
   "cell_type": "code",
   "execution_count": 37,
   "id": "122d205a",
   "metadata": {},
   "outputs": [
    {
     "data": {
      "text/plain": [
       "True"
      ]
     },
     "execution_count": 37,
     "metadata": {},
     "output_type": "execute_result"
    }
   ],
   "source": [
    "q<100"
   ]
  },
  {
   "cell_type": "raw",
   "id": "9d183a3c",
   "metadata": {},
   "source": [
    "Operations performed on Boolean datatype : AND, OR, NOT"
   ]
  },
  {
   "cell_type": "markdown",
   "id": "998ff64b",
   "metadata": {},
   "source": [
    ">AND = All my conditions are True.\n",
    "\n",
    ">OR = Either of condition is True.\n",
    "\n",
    ">NOT = Just opposite"
   ]
  },
  {
   "cell_type": "markdown",
   "id": "5ec803fb",
   "metadata": {},
   "source": [
    "# Data Structures"
   ]
  },
  {
   "cell_type": "raw",
   "id": "99866de7",
   "metadata": {},
   "source": [
    "1 - List         []\n",
    "2 - Tuple        ()\n",
    "3 - Set          {}\n",
    "4 - Dictionary   {key:value}\n",
    "5  -String       (\"\")"
   ]
  },
  {
   "cell_type": "markdown",
   "id": "a1a1c656",
   "metadata": {},
   "source": [
    "# List "
   ]
  },
  {
   "cell_type": "markdown",
   "id": "e3290464",
   "metadata": {},
   "source": [
    ">[ ] Ordered, Allows Duplicates, Mutable\n",
    "\n",
    ">1.Lists are just like arrays, declared in other languages."
   ]
  },
  {
   "cell_type": "code",
   "execution_count": 38,
   "id": "0eacfd3d",
   "metadata": {},
   "outputs": [
    {
     "data": {
      "text/plain": [
       "[1, 2, 3, 1, 2, 3, 'new', 'old', 13.5, (12+13j), True]"
      ]
     },
     "execution_count": 38,
     "metadata": {},
     "output_type": "execute_result"
    }
   ],
   "source": [
    "a = [1,2,3,1,2,3, 'new', 'old', 13.5, 12+13j, True]\n",
    "a"
   ]
  },
  {
   "cell_type": "code",
   "execution_count": 40,
   "id": "621603b3",
   "metadata": {},
   "outputs": [
    {
     "data": {
      "text/plain": [
       "list"
      ]
     },
     "execution_count": 40,
     "metadata": {},
     "output_type": "execute_result"
    }
   ],
   "source": [
    "type(a)"
   ]
  },
  {
   "cell_type": "code",
   "execution_count": 42,
   "id": "25f673fa",
   "metadata": {},
   "outputs": [
    {
     "name": "stdout",
     "output_type": "stream",
     "text": [
      "[]\n"
     ]
    }
   ],
   "source": [
    "#way 1 \n",
    "empty_list = []\n",
    "print (empty_list)"
   ]
  },
  {
   "cell_type": "markdown",
   "id": "f844d291",
   "metadata": {},
   "source": [
    "# Tuples"
   ]
  },
  {
   "cell_type": "markdown",
   "id": "a46eec5d",
   "metadata": {},
   "source": [
    "\n",
    ">The items are surrounded in paranthesis().\n",
    "\n",
    ">A tuple is an (immutable) ordered list of values.i.e, Once you define a tuple I cannot change it in a future.\n"
   ]
  },
  {
   "cell_type": "code",
   "execution_count": 43,
   "id": "9089482e",
   "metadata": {},
   "outputs": [
    {
     "name": "stdout",
     "output_type": "stream",
     "text": [
      "()\n"
     ]
    }
   ],
   "source": [
    "# An empty tuple \n",
    "empty_tuple = () \n",
    "print (empty_tuple)"
   ]
  },
  {
   "cell_type": "code",
   "execution_count": 44,
   "id": "f2c43935",
   "metadata": {},
   "outputs": [
    {
     "name": "stdout",
     "output_type": "stream",
     "text": [
      "('python', 'State')\n"
     ]
    }
   ],
   "source": [
    "# Creating non-empty tuples \n",
    "  \n",
    "# One way of creation \n",
    "tup = 'python', 'State'\n",
    "print(tup)"
   ]
  },
  {
   "cell_type": "code",
   "execution_count": 45,
   "id": "491c05f4",
   "metadata": {},
   "outputs": [
    {
     "name": "stdout",
     "output_type": "stream",
     "text": [
      "('python', 'State')\n"
     ]
    }
   ],
   "source": [
    "# Another for doing the same \n",
    "tup = ('python', 'State') \n",
    "print(tup)"
   ]
  },
  {
   "cell_type": "code",
   "execution_count": 46,
   "id": "09f96e73",
   "metadata": {},
   "outputs": [
    {
     "name": "stdout",
     "output_type": "stream",
     "text": [
      "<class 'tuple'>\n"
     ]
    }
   ],
   "source": [
    "t = (5, 6)     \n",
    "print(type(t))"
   ]
  },
  {
   "cell_type": "markdown",
   "id": "36112073",
   "metadata": {},
   "source": [
    "## Dictionaries {Key:Value}"
   ]
  },
  {
   "cell_type": "markdown",
   "id": "0edbd65e",
   "metadata": {},
   "source": [
    "\n",
    ">1.Dictionaries in Python is an unordered collection of data values. used to store data values like a map, whch unlike other data.\n",
    "\n",
    ">2.Types that hold only single value as an element Dictionary holds key value:pair value.\n"
   ]
  },
  {
   "cell_type": "code",
   "execution_count": 47,
   "id": "878405c9",
   "metadata": {},
   "outputs": [
    {
     "name": "stdout",
     "output_type": "stream",
     "text": [
      "Empty Dictionary: \n",
      "{}\n"
     ]
    }
   ],
   "source": [
    "Dict = {}  # Creating an empty Dictionary \n",
    "print(\"Empty Dictionary: \") \n",
    "print(Dict) \n",
    "\n"
   ]
  },
  {
   "cell_type": "code",
   "execution_count": 48,
   "id": "7b17af35",
   "metadata": {},
   "outputs": [
    {
     "name": "stdout",
     "output_type": "stream",
     "text": [
      "{1: 'State', 2: 'Street', 3: 'Bellandur'}\n"
     ]
    }
   ],
   "source": [
    "Dict = dict({1: 'State', 2: 'Street', 3:'Bellandur'}) # with dict() method \n",
    "print(Dict) \n",
    "\n"
   ]
  },
  {
   "cell_type": "code",
   "execution_count": 49,
   "id": "81130994",
   "metadata": {},
   "outputs": [
    {
     "name": "stdout",
     "output_type": "stream",
     "text": [
      "{1: 'State', 2: 'Street'}\n"
     ]
    }
   ],
   "source": [
    "Dict = dict([(1, 'State'), (2, 'Street')]) # with each item as a Pair  \n",
    "print(Dict)"
   ]
  },
  {
   "cell_type": "code",
   "execution_count": 52,
   "id": "2e4ab513",
   "metadata": {},
   "outputs": [
    {
     "data": {
      "text/plain": [
       "{'cat': 'cute', 'dog': 'furry'}"
      ]
     },
     "execution_count": 52,
     "metadata": {},
     "output_type": "execute_result"
    }
   ],
   "source": [
    "# Create a new dictionary with some data\n",
    "d = {'cat': 'cute', 'dog': 'furry'}\n",
    "d"
   ]
  },
  {
   "cell_type": "code",
   "execution_count": 53,
   "id": "0d9b7008",
   "metadata": {},
   "outputs": [
    {
     "name": "stdout",
     "output_type": "stream",
     "text": [
      "cute\n"
     ]
    }
   ],
   "source": [
    "# Get an entry from a dictionary; prints \"cute\"\n",
    "print(d['cat']) "
   ]
  },
  {
   "cell_type": "code",
   "execution_count": 54,
   "id": "a7e8927b",
   "metadata": {},
   "outputs": [
    {
     "name": "stdout",
     "output_type": "stream",
     "text": [
      "False\n"
     ]
    }
   ],
   "source": [
    "# Check if a dictionary has a given key; prints \"True\"\n",
    "print('rat' in d)    "
   ]
  },
  {
   "cell_type": "code",
   "execution_count": 56,
   "id": "fe0d71bf",
   "metadata": {},
   "outputs": [
    {
     "name": "stdout",
     "output_type": "stream",
     "text": [
      "wet\n"
     ]
    }
   ],
   "source": [
    "# Set an entry in a dictionary\n",
    "d['fish'] = 'wet'    \n",
    "print(d['fish'])  "
   ]
  },
  {
   "cell_type": "code",
   "execution_count": 57,
   "id": "32f17df5",
   "metadata": {},
   "outputs": [
    {
     "ename": "KeyError",
     "evalue": "'monkey'",
     "output_type": "error",
     "traceback": [
      "\u001b[1;31m---------------------------------------------------------------------------\u001b[0m",
      "\u001b[1;31mKeyError\u001b[0m                                  Traceback (most recent call last)",
      "Cell \u001b[1;32mIn[57], line 1\u001b[0m\n\u001b[1;32m----> 1\u001b[0m \u001b[38;5;28mprint\u001b[39m(d[\u001b[38;5;124m'\u001b[39m\u001b[38;5;124mmonkey\u001b[39m\u001b[38;5;124m'\u001b[39m])\n",
      "\u001b[1;31mKeyError\u001b[0m: 'monkey'"
     ]
    }
   ],
   "source": [
    "print(d['monkey'])"
   ]
  },
  {
   "cell_type": "code",
   "execution_count": 59,
   "id": "100a8152",
   "metadata": {},
   "outputs": [
    {
     "data": {
      "text/plain": [
       "{'Dad': 42, 'Mom': 39, 'Sister': 24, 'Me': 21}"
      ]
     },
     "execution_count": 59,
     "metadata": {},
     "output_type": "execute_result"
    }
   ],
   "source": [
    "#Example of dictionary family members and their ages\n",
    "x = {\"Dad\":42 , \"Mom\":39,\"Sister\":24,\"Me\":21}\n",
    "x"
   ]
  },
  {
   "cell_type": "code",
   "execution_count": 60,
   "id": "3b133bab",
   "metadata": {},
   "outputs": [
    {
     "data": {
      "text/plain": [
       "42"
      ]
     },
     "execution_count": 60,
     "metadata": {},
     "output_type": "execute_result"
    }
   ],
   "source": [
    "x['Dad']"
   ]
  },
  {
   "cell_type": "markdown",
   "id": "0052436b",
   "metadata": {},
   "source": [
    "## Set "
   ]
  },
  {
   "cell_type": "code",
   "execution_count": 1,
   "id": "dbb9b0f5",
   "metadata": {},
   "outputs": [],
   "source": [
    "a = {1,2,3,4,5,6}"
   ]
  },
  {
   "cell_type": "code",
   "execution_count": 2,
   "id": "e11833c2",
   "metadata": {},
   "outputs": [
    {
     "data": {
      "text/plain": [
       "set"
      ]
     },
     "execution_count": 2,
     "metadata": {},
     "output_type": "execute_result"
    }
   ],
   "source": [
    "type(a)"
   ]
  },
  {
   "cell_type": "code",
   "execution_count": null,
   "id": "493ffe1c",
   "metadata": {},
   "outputs": [],
   "source": []
  }
 ],
 "metadata": {
  "kernelspec": {
   "display_name": "Python 3 (ipykernel)",
   "language": "python",
   "name": "python3"
  },
  "language_info": {
   "codemirror_mode": {
    "name": "ipython",
    "version": 3
   },
   "file_extension": ".py",
   "mimetype": "text/x-python",
   "name": "python",
   "nbconvert_exporter": "python",
   "pygments_lexer": "ipython3",
   "version": "3.10.13"
  }
 },
 "nbformat": 4,
 "nbformat_minor": 5
}
