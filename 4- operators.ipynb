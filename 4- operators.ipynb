{
 "cells": [
  {
   "cell_type": "markdown",
   "id": "226ee66e",
   "metadata": {},
   "source": [
    "# Python Operators "
   ]
  },
  {
   "cell_type": "markdown",
   "id": "b155ecab",
   "metadata": {},
   "source": [
    ">Arithmetic : + - * / //Floor division **exponential \n",
    "\n",
    ">Comparison/Relational : < <= > >= != ==\n",
    "\n",
    ">Assignment : =\n",
    "    \n",
    ">Logical : and or not\n",
    "\n",
    ">Membership : in, not in\n",
    "    \n",
    ">Identity : is, is not"
   ]
  },
  {
   "cell_type": "markdown",
   "id": "ddb62593",
   "metadata": {},
   "source": [
    "# Arithmetic Operators "
   ]
  },
  {
   "cell_type": "code",
   "execution_count": 1,
   "id": "5abdf95a",
   "metadata": {},
   "outputs": [
    {
     "name": "stdout",
     "output_type": "stream",
     "text": [
      "Addition: 125\n",
      "Subtraction: 25\n",
      "Multiplication: 3750\n",
      "Division: 1.5\n",
      "Floor Division: 1\n",
      "Power: 5663216564269376246651146961451462555847156881308848176692638531903867260552942752838134765625\n",
      "Modulus without a remainder: 0\n",
      "Modulus with a remainder: 1\n"
     ]
    }
   ],
   "source": [
    "a = 75\n",
    "b = 50\n",
    "\n",
    "print(\"Addition:\", a + b)\n",
    "print(\"Subtraction:\", a - b)\n",
    "print(\"Multiplication:\", a * b)\n",
    "print(\"Division:\", a / b)\n",
    "print(\"Floor Division:\", a // b)   \n",
    "print(\"Power:\", a ** b)\n",
    "\n",
    "# Mod or percent gives the Remainder of the division of the left oper and by the Right.\n",
    "print(\"Modulus without a remainder:\", 10 % 2)\n",
    "print(\"Modulus with a remainder:\", 10 % 3) "
   ]
  },
  {
   "cell_type": "code",
   "execution_count": 3,
   "id": "78a39f68",
   "metadata": {},
   "outputs": [
    {
     "name": "stdout",
     "output_type": "stream",
     "text": [
      "Addition - Value of c is  5\n",
      "Substraction - Value of c is  -1\n",
      "Multiplication - Value of c is  6\n",
      "Division - Value of c is  0.6666666666666666\n",
      "Floor Division - Value of c is  0\n",
      "Modulus / Remainder - Value of c is  2\n",
      "Exponent / Power - Value of c is  8\n"
     ]
    }
   ],
   "source": [
    "a = 2\n",
    "b = 3\n",
    "\n",
    "\n",
    "c = a + b \n",
    "print(\"Addition - Value of c is \", c)\n",
    "\n",
    "c = a - b\n",
    "print(\"Substraction - Value of c is \", c)\n",
    "\n",
    "c = a * b\n",
    "print(\"Multiplication - Value of c is \", c)\n",
    "\n",
    "c = a / b\n",
    "print(\"Division - Value of c is \", c)\n",
    "\n",
    "\n",
    "#floor devision is the Division that results into whole number adjusted to the left in the number line.\n",
    "c = a//b \n",
    "print(\"Floor Division - Value of c is \", c) \n",
    "\n",
    "c = a % b\n",
    "print(\"Modulus / Remainder - Value of c is \", c)\n",
    "\n",
    "c = a**b \n",
    "print(\"Exponent / Power - Value of c is \", c)"
   ]
  },
  {
   "cell_type": "markdown",
   "id": "b64c012c",
   "metadata": {},
   "source": [
    "## Comparison/Relational Operators"
   ]
  },
  {
   "cell_type": "raw",
   "id": "5f7243c4",
   "metadata": {},
   "source": [
    "Comparison operators gives result in only in True or False\n",
    "\n",
    "<,>,<=,>=,==,!="
   ]
  },
  {
   "cell_type": "code",
   "execution_count": 4,
   "id": "2193c3ac",
   "metadata": {},
   "outputs": [
    {
     "name": "stdout",
     "output_type": "stream",
     "text": [
      "A is equals to B: False\n",
      "A is not equals to B: True\n",
      "A is greater than B: True\n",
      "A is less than B: False\n",
      "A is greater than or equal B: True\n",
      "A is lesser than or equal to B: False\n"
     ]
    }
   ],
   "source": [
    "# Comparison operators\n",
    "a = 20 \n",
    "b = 10\n",
    "\n",
    "print(\"A is equals to B:\", a == b)\n",
    "print(\"A is not equals to B:\", a != b)\n",
    "print(\"A is greater than B:\", a > b)\n",
    "print(\"A is less than B:\", a < b)\n",
    "print(\"A is greater than or equal B:\", a >= b)\n",
    "print(\"A is lesser than or equal to B:\", a <= b)"
   ]
  },
  {
   "cell_type": "markdown",
   "id": "81b6eb91",
   "metadata": {},
   "source": [
    "## Assignment Operators"
   ]
  },
  {
   "cell_type": "raw",
   "id": "33b1b744",
   "metadata": {},
   "source": [
    "+=, -=, *=, /=, %=, //=,**="
   ]
  },
  {
   "cell_type": "code",
   "execution_count": 5,
   "id": "e596662a",
   "metadata": {},
   "outputs": [
    {
     "name": "stdout",
     "output_type": "stream",
     "text": [
      "5\n"
     ]
    }
   ],
   "source": [
    "x = 5\n",
    "print(x)"
   ]
  },
  {
   "cell_type": "code",
   "execution_count": 6,
   "id": "c360ad44",
   "metadata": {},
   "outputs": [
    {
     "name": "stdout",
     "output_type": "stream",
     "text": [
      "6\n"
     ]
    }
   ],
   "source": [
    "#x=x+1   i.e.5+1=6\n",
    "x +=1 \n",
    "print(x)"
   ]
  },
  {
   "cell_type": "code",
   "execution_count": 7,
   "id": "499c5d15",
   "metadata": {},
   "outputs": [
    {
     "name": "stdout",
     "output_type": "stream",
     "text": [
      "5\n"
     ]
    }
   ],
   "source": [
    "#x=x-1 i.e. 6-1=5\n",
    "x -=1\n",
    "print(x)"
   ]
  },
  {
   "cell_type": "code",
   "execution_count": 8,
   "id": "a83d38f3",
   "metadata": {},
   "outputs": [
    {
     "name": "stdout",
     "output_type": "stream",
     "text": [
      "10\n"
     ]
    }
   ],
   "source": [
    "#x = x*2 i.e.5*2=10\n",
    "x *=2\n",
    "print(x)"
   ]
  },
  {
   "cell_type": "code",
   "execution_count": 9,
   "id": "eaf6bf54",
   "metadata": {},
   "outputs": [
    {
     "name": "stdout",
     "output_type": "stream",
     "text": [
      "5.0\n"
     ]
    }
   ],
   "source": [
    "#x= x/2 i.e.10/2=5\n",
    "x /=2 \n",
    "print(x)"
   ]
  },
  {
   "cell_type": "code",
   "execution_count": 10,
   "id": "c46bbd81",
   "metadata": {},
   "outputs": [
    {
     "name": "stdout",
     "output_type": "stream",
     "text": [
      "1.0\n"
     ]
    }
   ],
   "source": [
    "#x= 5%2=1\n",
    "x %=2 \n",
    "print(x)"
   ]
  },
  {
   "cell_type": "code",
   "execution_count": 11,
   "id": "e445b75a",
   "metadata": {},
   "outputs": [
    {
     "name": "stdout",
     "output_type": "stream",
     "text": [
      "0.0\n"
     ]
    }
   ],
   "source": [
    "#x = x//2\n",
    "x //=2 \n",
    "print(x)"
   ]
  },
  {
   "cell_type": "code",
   "execution_count": 12,
   "id": "b0cf7a8e",
   "metadata": {},
   "outputs": [
    {
     "name": "stdout",
     "output_type": "stream",
     "text": [
      "27\n"
     ]
    }
   ],
   "source": [
    "#x= x**3=3**3=27\n",
    "x = 3\n",
    "x **=3\n",
    "print(x)"
   ]
  },
  {
   "cell_type": "code",
   "execution_count": 13,
   "id": "5cab2e11",
   "metadata": {},
   "outputs": [
    {
     "name": "stdout",
     "output_type": "stream",
     "text": [
      "Adding values to C: 35\n",
      "Subtracting values from C: 20\n",
      "Multiplying values on C: 300\n",
      "Dividing values from C: 20.0\n",
      "Floor Division of C: 1.0\n",
      "Power of C by 2 1.0\n",
      "Modulus of C by 2: 1.0\n"
     ]
    }
   ],
   "source": [
    "a = 15\n",
    "b = 5\n",
    "c = a + b\n",
    "\n",
    "c += a\n",
    "print(\"Adding values to C:\", c)\n",
    "c -= a\n",
    "print(\"Subtracting values from C:\", c)\n",
    "c *= a\n",
    "print(\"Multiplying values on C:\", c)\n",
    "c /= a\n",
    "print(\"Dividing values from C:\", c)\n",
    "c //= a\n",
    "print(\"Floor Division of C:\", c)\n",
    "c **= 2\n",
    "print(\"Power of C by 2\", c)\n",
    "c %= 2\n",
    "print(\"Modulus of C by 2:\", c)"
   ]
  },
  {
   "cell_type": "code",
   "execution_count": 14,
   "id": "c7c7a3d8",
   "metadata": {},
   "outputs": [
    {
     "name": "stdout",
     "output_type": "stream",
     "text": [
      "Line 1 - Value of c is  5\n",
      "Line 2 - Value of c is  7\n",
      "Line 3 - Value of c is  14\n",
      "Line 4 - Value of c is  7.0\n",
      "Line 5 - Value of c is  3.0\n",
      "Line 6 - Value of c is  1.0\n",
      "Line 7 - Value of c is  1.0\n"
     ]
    }
   ],
   "source": [
    "a = 2\n",
    "b = 3\n",
    "c = 0\n",
    "\n",
    "c = a + b\n",
    "print(\"Line 1 - Value of c is \", c)\n",
    "\n",
    "c += a\n",
    "print(\"Line 2 - Value of c is \", c) \n",
    "\n",
    "c *= a\n",
    "print(\"Line 3 - Value of c is \", c) \n",
    "\n",
    "c /= a \n",
    "print(\"Line 4 - Value of c is \", c) \n",
    "\n",
    "c //= a\n",
    "print(\"Line 5 - Value of c is \", c)\n",
    "\n",
    "c %= a\n",
    "print(\"Line 6 - Value of c is \", c)\n",
    "\n",
    "c **= a\n",
    "print(\"Line 7 - Value of c is \", c)"
   ]
  },
  {
   "cell_type": "markdown",
   "id": "3896f8d0",
   "metadata": {},
   "source": [
    "## Logical Operators"
   ]
  },
  {
   "cell_type": "raw",
   "id": "59d9ea35",
   "metadata": {},
   "source": [
    "AND operator will only evaluate the conditions as True when each and every condition is True"
   ]
  },
  {
   "cell_type": "code",
   "execution_count": 15,
   "id": "cc918a58",
   "metadata": {},
   "outputs": [
    {
     "data": {
      "text/plain": [
       "True"
      ]
     },
     "execution_count": 15,
     "metadata": {},
     "output_type": "execute_result"
    }
   ],
   "source": [
    "True and True"
   ]
  },
  {
   "cell_type": "code",
   "execution_count": 16,
   "id": "96baa5ab",
   "metadata": {},
   "outputs": [
    {
     "data": {
      "text/plain": [
       "False"
      ]
     },
     "execution_count": 16,
     "metadata": {},
     "output_type": "execute_result"
    }
   ],
   "source": [
    "True and False"
   ]
  },
  {
   "cell_type": "code",
   "execution_count": 17,
   "id": "e4eca2c3",
   "metadata": {},
   "outputs": [
    {
     "data": {
      "text/plain": [
       "False"
      ]
     },
     "execution_count": 17,
     "metadata": {},
     "output_type": "execute_result"
    }
   ],
   "source": [
    "False and True"
   ]
  },
  {
   "cell_type": "code",
   "execution_count": 18,
   "id": "3de34398",
   "metadata": {},
   "outputs": [
    {
     "data": {
      "text/plain": [
       "False"
      ]
     },
     "execution_count": 18,
     "metadata": {},
     "output_type": "execute_result"
    }
   ],
   "source": [
    "False and False"
   ]
  },
  {
   "cell_type": "raw",
   "id": "57932315",
   "metadata": {},
   "source": [
    "OR operator will only evaluate the conditions as True if any one condition is True"
   ]
  },
  {
   "cell_type": "code",
   "execution_count": 19,
   "id": "b345b9eb",
   "metadata": {},
   "outputs": [
    {
     "data": {
      "text/plain": [
       "True"
      ]
     },
     "execution_count": 19,
     "metadata": {},
     "output_type": "execute_result"
    }
   ],
   "source": [
    "True or True"
   ]
  },
  {
   "cell_type": "code",
   "execution_count": 20,
   "id": "30395f1e",
   "metadata": {},
   "outputs": [
    {
     "data": {
      "text/plain": [
       "True"
      ]
     },
     "execution_count": 20,
     "metadata": {},
     "output_type": "execute_result"
    }
   ],
   "source": [
    "True or False"
   ]
  },
  {
   "cell_type": "code",
   "execution_count": 21,
   "id": "7c27fced",
   "metadata": {},
   "outputs": [
    {
     "data": {
      "text/plain": [
       "True"
      ]
     },
     "execution_count": 21,
     "metadata": {},
     "output_type": "execute_result"
    }
   ],
   "source": [
    "False or True"
   ]
  },
  {
   "cell_type": "code",
   "execution_count": 22,
   "id": "d9f99f42",
   "metadata": {},
   "outputs": [
    {
     "data": {
      "text/plain": [
       "False"
      ]
     },
     "execution_count": 22,
     "metadata": {},
     "output_type": "execute_result"
    }
   ],
   "source": [
    "False or False"
   ]
  },
  {
   "cell_type": "raw",
   "id": "9f07745b",
   "metadata": {},
   "source": [
    "NOT Operator gives opposite of that codition"
   ]
  },
  {
   "cell_type": "code",
   "execution_count": 23,
   "id": "7e1146d9",
   "metadata": {},
   "outputs": [
    {
     "data": {
      "text/plain": [
       "False"
      ]
     },
     "execution_count": 23,
     "metadata": {},
     "output_type": "execute_result"
    }
   ],
   "source": [
    "not True"
   ]
  },
  {
   "cell_type": "code",
   "execution_count": 24,
   "id": "e8e5aa7f",
   "metadata": {},
   "outputs": [
    {
     "data": {
      "text/plain": [
       "True"
      ]
     },
     "execution_count": 24,
     "metadata": {},
     "output_type": "execute_result"
    }
   ],
   "source": [
    "not False"
   ]
  },
  {
   "cell_type": "markdown",
   "id": "3e7ab049",
   "metadata": {},
   "source": [
    "## Membership Operators"
   ]
  },
  {
   "cell_type": "raw",
   "id": "38acc3f2",
   "metadata": {},
   "source": [
    "used to understand whether a particular value is present or not in a variable"
   ]
  },
  {
   "cell_type": "code",
   "execution_count": 25,
   "id": "7ed8a9cd",
   "metadata": {},
   "outputs": [
    {
     "data": {
      "text/plain": [
       "[1, 2, 3, 4, 5, 6, 7, 8, 9, 10]"
      ]
     },
     "execution_count": 25,
     "metadata": {},
     "output_type": "execute_result"
    }
   ],
   "source": [
    "a = [1,2,3,4,5,6,7,8,9,10]\n",
    "a"
   ]
  },
  {
   "cell_type": "code",
   "execution_count": 26,
   "id": "9009fd75",
   "metadata": {},
   "outputs": [
    {
     "data": {
      "text/plain": [
       "True"
      ]
     },
     "execution_count": 26,
     "metadata": {},
     "output_type": "execute_result"
    }
   ],
   "source": [
    "3 in a "
   ]
  },
  {
   "cell_type": "code",
   "execution_count": 27,
   "id": "cd654632",
   "metadata": {},
   "outputs": [
    {
     "data": {
      "text/plain": [
       "False"
      ]
     },
     "execution_count": 27,
     "metadata": {},
     "output_type": "execute_result"
    }
   ],
   "source": [
    "11.5 in a "
   ]
  },
  {
   "cell_type": "code",
   "execution_count": 28,
   "id": "1c2968fd",
   "metadata": {},
   "outputs": [
    {
     "data": {
      "text/plain": [
       "False"
      ]
     },
     "execution_count": 28,
     "metadata": {},
     "output_type": "execute_result"
    }
   ],
   "source": [
    "0 in a "
   ]
  },
  {
   "cell_type": "code",
   "execution_count": 29,
   "id": "cd7bbeb0",
   "metadata": {},
   "outputs": [
    {
     "name": "stdout",
     "output_type": "stream",
     "text": [
      "Line 1 - a is available in the given list\n"
     ]
    }
   ],
   "source": [
    "a = 1\n",
    "b = 20\n",
    "list = [1, 2, 3, 4, 5 ]\n",
    "\n",
    "if ( a in list ):\n",
    "    print(\"Line 1 - a is available in the given list\")\n",
    "else:\n",
    "    print(\"Line 1 - a is not available in the given list\")"
   ]
  },
  {
   "cell_type": "code",
   "execution_count": 30,
   "id": "165c9143",
   "metadata": {},
   "outputs": [
    {
     "name": "stdout",
     "output_type": "stream",
     "text": [
      "Line 3 - b is not available in the given list\n"
     ]
    }
   ],
   "source": [
    "if (b not in list):\n",
    "    print(\"Line 3 - b is not available in the given list\")\n",
    "else:\n",
    "    print(\"Line 3 - b is available in the given list\")"
   ]
  },
  {
   "cell_type": "code",
   "execution_count": 31,
   "id": "d457656a",
   "metadata": {},
   "outputs": [
    {
     "data": {
      "text/plain": [
       "[11, 101, 12, 13, 25, (2+3j), True, 36.52]"
      ]
     },
     "execution_count": 31,
     "metadata": {},
     "output_type": "execute_result"
    }
   ],
   "source": [
    "y = [11,101,12,13,25,2+3j,True,36.52]\n",
    "y"
   ]
  },
  {
   "cell_type": "code",
   "execution_count": 32,
   "id": "13726700",
   "metadata": {},
   "outputs": [
    {
     "name": "stdout",
     "output_type": "stream",
     "text": [
      "X is present in y: False\n"
     ]
    }
   ],
   "source": [
    "x = 10\n",
    "print(\"X is present in y:\", x in y)"
   ]
  },
  {
   "cell_type": "code",
   "execution_count": 33,
   "id": "65c1941a",
   "metadata": {},
   "outputs": [
    {
     "name": "stdout",
     "output_type": "stream",
     "text": [
      "X is present in y: True\n"
     ]
    }
   ],
   "source": [
    "x = 2+3j\n",
    "print(\"X is present in y:\", x in y)"
   ]
  },
  {
   "cell_type": "markdown",
   "id": "57704ccc",
   "metadata": {},
   "source": [
    "## Identity operator"
   ]
  },
  {
   "cell_type": "raw",
   "id": "012df629",
   "metadata": {},
   "source": [
    "is and is not "
   ]
  },
  {
   "cell_type": "raw",
   "id": "ba18b12f",
   "metadata": {},
   "source": [
    "is :Evaluates to true if the variables on either side of the operator point to the same object and false otherwise.\n",
    "\n",
    "is not : Evaluates to false if the variables on either side of the operator point to the same object and true otherwise."
   ]
  },
  {
   "cell_type": "code",
   "execution_count": 34,
   "id": "9a2b5878",
   "metadata": {},
   "outputs": [
    {
     "data": {
      "text/plain": [
       "20"
      ]
     },
     "execution_count": 34,
     "metadata": {},
     "output_type": "execute_result"
    }
   ],
   "source": [
    "x = 20\n",
    "x"
   ]
  },
  {
   "cell_type": "code",
   "execution_count": 35,
   "id": "1e269c95",
   "metadata": {},
   "outputs": [
    {
     "name": "stderr",
     "output_type": "stream",
     "text": [
      "<>:1: SyntaxWarning: \"is\" with a literal. Did you mean \"==\"?\n",
      "<>:1: SyntaxWarning: \"is\" with a literal. Did you mean \"==\"?\n",
      "C:\\Users\\91917\\AppData\\Local\\Temp\\ipykernel_17968\\1564652717.py:1: SyntaxWarning: \"is\" with a literal. Did you mean \"==\"?\n",
      "  x is 5\n"
     ]
    },
    {
     "data": {
      "text/plain": [
       "False"
      ]
     },
     "execution_count": 35,
     "metadata": {},
     "output_type": "execute_result"
    }
   ],
   "source": [
    "x is 5"
   ]
  },
  {
   "cell_type": "code",
   "execution_count": 36,
   "id": "912ba0a6",
   "metadata": {},
   "outputs": [
    {
     "name": "stderr",
     "output_type": "stream",
     "text": [
      "<>:1: SyntaxWarning: \"is\" with a literal. Did you mean \"==\"?\n",
      "<>:1: SyntaxWarning: \"is\" with a literal. Did you mean \"==\"?\n",
      "C:\\Users\\91917\\AppData\\Local\\Temp\\ipykernel_17968\\140267597.py:1: SyntaxWarning: \"is\" with a literal. Did you mean \"==\"?\n",
      "  x is 20\n"
     ]
    },
    {
     "data": {
      "text/plain": [
       "True"
      ]
     },
     "execution_count": 36,
     "metadata": {},
     "output_type": "execute_result"
    }
   ],
   "source": [
    "x is 20"
   ]
  },
  {
   "cell_type": "code",
   "execution_count": 37,
   "id": "eab34a44",
   "metadata": {},
   "outputs": [
    {
     "name": "stderr",
     "output_type": "stream",
     "text": [
      "<>:1: SyntaxWarning: \"is not\" with a literal. Did you mean \"!=\"?\n",
      "<>:1: SyntaxWarning: \"is not\" with a literal. Did you mean \"!=\"?\n",
      "C:\\Users\\91917\\AppData\\Local\\Temp\\ipykernel_17968\\908714030.py:1: SyntaxWarning: \"is not\" with a literal. Did you mean \"!=\"?\n",
      "  x is not 5\n"
     ]
    },
    {
     "data": {
      "text/plain": [
       "True"
      ]
     },
     "execution_count": 37,
     "metadata": {},
     "output_type": "execute_result"
    }
   ],
   "source": [
    "x is not 5"
   ]
  },
  {
   "cell_type": "code",
   "execution_count": 38,
   "id": "acef9ef9",
   "metadata": {},
   "outputs": [
    {
     "name": "stdout",
     "output_type": "stream",
     "text": [
      "True\n"
     ]
    }
   ],
   "source": [
    "a = 20\n",
    "b = 30\n",
    "\n",
    "print(a is not b)"
   ]
  },
  {
   "cell_type": "code",
   "execution_count": 39,
   "id": "0d9d12ac",
   "metadata": {
    "scrolled": true
   },
   "outputs": [
    {
     "name": "stdout",
     "output_type": "stream",
     "text": [
      "False\n"
     ]
    }
   ],
   "source": [
    "print(a is b)"
   ]
  },
  {
   "cell_type": "code",
   "execution_count": 40,
   "id": "99a917ab",
   "metadata": {
    "scrolled": true
   },
   "outputs": [
    {
     "name": "stdout",
     "output_type": "stream",
     "text": [
      "True\n"
     ]
    }
   ],
   "source": [
    "print(b is not a)"
   ]
  },
  {
   "cell_type": "code",
   "execution_count": 1,
   "id": "adb44a27",
   "metadata": {},
   "outputs": [
    {
     "data": {
      "text/plain": [
       "True"
      ]
     },
     "execution_count": 1,
     "metadata": {},
     "output_type": "execute_result"
    }
   ],
   "source": [
    "a = \"muskan\"\n",
    "\"m\" in a "
   ]
  },
  {
   "cell_type": "code",
   "execution_count": null,
   "id": "1c1d1fc2",
   "metadata": {},
   "outputs": [],
   "source": []
  }
 ],
 "metadata": {
  "kernelspec": {
   "display_name": "Python 3 (ipykernel)",
   "language": "python",
   "name": "python3"
  },
  "language_info": {
   "codemirror_mode": {
    "name": "ipython",
    "version": 3
   },
   "file_extension": ".py",
   "mimetype": "text/x-python",
   "name": "python",
   "nbconvert_exporter": "python",
   "pygments_lexer": "ipython3",
   "version": "3.10.13"
  }
 },
 "nbformat": 4,
 "nbformat_minor": 5
}
